{
 "cells": [
  {
   "cell_type": "code",
   "execution_count": 1,
   "id": "5bca02d2-2c08-4320-9af9-f21505fc3f1c",
   "metadata": {},
   "outputs": [],
   "source": [
    "import json"
   ]
  },
  {
   "cell_type": "code",
   "execution_count": 2,
   "id": "e74e2fbf-3b89-4518-b0f6-cd3490951b87",
   "metadata": {},
   "outputs": [],
   "source": [
    "with open(\"Lolldaiga_2021-07-26_05-56-28xx.json\") as file_ll:\n",
    "    ll_data = json.load(file_ll)"
   ]
  },
  {
   "cell_type": "code",
   "execution_count": 15,
   "id": "07fdb65a-fa57-4a78-8b18-86636c7fea5d",
   "metadata": {},
   "outputs": [],
   "source": [
    "# check if any of the parenttile_id is assigned\n",
    "for resource in ll_data['business_data']['resources']:\n",
    "    for tile in resource['tiles']:\n",
    "        if tile['parenttile_id']:\n",
    "            print (tile['parenttile_id'])"
   ]
  },
  {
   "cell_type": "code",
   "execution_count": 22,
   "id": "dfd614fe-3a5d-4c26-af17-3e4196ace608",
   "metadata": {},
   "outputs": [],
   "source": [
    "# check if any of the data attributes is empty\n",
    "for resource in ll_data['business_data']['resources']:\n",
    "    for tile in resource['tiles']:\n",
    "        if len(tile['data'].keys()) == 0:\n",
    "            print(tile['tileid'])"
   ]
  },
  {
   "cell_type": "code",
   "execution_count": null,
   "id": "28854547-adc9-4d97-a6f8-d5311cba5a47",
   "metadata": {},
   "outputs": [],
   "source": []
  },
  {
   "cell_type": "code",
   "execution_count": null,
   "id": "049cdae9-339f-4fb8-8a27-9d481721ee0e",
   "metadata": {},
   "outputs": [],
   "source": []
  }
 ],
 "metadata": {
  "kernelspec": {
   "display_name": "Python 3 (ipykernel)",
   "language": "python",
   "name": "python3"
  },
  "language_info": {
   "codemirror_mode": {
    "name": "ipython",
    "version": 3
   },
   "file_extension": ".py",
   "mimetype": "text/x-python",
   "name": "python",
   "nbconvert_exporter": "python",
   "pygments_lexer": "ipython3",
   "version": "3.8.10"
  }
 },
 "nbformat": 4,
 "nbformat_minor": 5
}
