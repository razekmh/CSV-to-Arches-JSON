{
 "cells": [
  {
   "cell_type": "code",
   "execution_count": 1,
   "id": "5bca02d2-2c08-4320-9af9-f21505fc3f1c",
   "metadata": {},
   "outputs": [],
   "source": [
    "import json"
   ]
  },
  {
   "cell_type": "code",
   "execution_count": 2,
   "id": "e74e2fbf-3b89-4518-b0f6-cd3490951b87",
   "metadata": {},
   "outputs": [],
   "source": [
    "with open(\"Lolldaiga_2021-07-26_05-56-28xx.json\") as file_ll:\n",
    "    ll_data = json.load(file_ll)"
   ]
  },
  {
   "cell_type": "code",
   "execution_count": 15,
   "id": "07fdb65a-fa57-4a78-8b18-86636c7fea5d",
   "metadata": {},
   "outputs": [],
   "source": [
    "for resource in ll_data['business_data']['resources']:\n",
    "    for tile in resource['tiles']:\n",
    "        if tile['parenttile_id']:\n",
    "            print (tile['parenttile_id'])"
   ]
  },
  {
   "cell_type": "code",
   "execution_count": 16,
   "id": "dfd614fe-3a5d-4c26-af17-3e4196ace608",
   "metadata": {},
   "outputs": [
    {
     "ename": "TypeError",
     "evalue": "object of type 'builtin_function_or_method' has no len()",
     "output_type": "error",
     "traceback": [
      "\u001b[1;31m---------------------------------------------------------------------------\u001b[0m",
      "\u001b[1;31mTypeError\u001b[0m                                 Traceback (most recent call last)",
      "\u001b[1;32m<ipython-input-16-e8db764da1a1>\u001b[0m in \u001b[0;36m<module>\u001b[1;34m\u001b[0m\n\u001b[0;32m      1\u001b[0m \u001b[1;32mfor\u001b[0m \u001b[0mresource\u001b[0m \u001b[1;32min\u001b[0m \u001b[0mll_data\u001b[0m\u001b[1;33m[\u001b[0m\u001b[1;34m'business_data'\u001b[0m\u001b[1;33m]\u001b[0m\u001b[1;33m[\u001b[0m\u001b[1;34m'resources'\u001b[0m\u001b[1;33m]\u001b[0m\u001b[1;33m:\u001b[0m\u001b[1;33m\u001b[0m\u001b[1;33m\u001b[0m\u001b[0m\n\u001b[0;32m      2\u001b[0m     \u001b[1;32mfor\u001b[0m \u001b[0mtile\u001b[0m \u001b[1;32min\u001b[0m \u001b[0mresource\u001b[0m\u001b[1;33m[\u001b[0m\u001b[1;34m'tiles'\u001b[0m\u001b[1;33m]\u001b[0m\u001b[1;33m:\u001b[0m\u001b[1;33m\u001b[0m\u001b[1;33m\u001b[0m\u001b[0m\n\u001b[1;32m----> 3\u001b[1;33m         \u001b[1;32mif\u001b[0m \u001b[0mlen\u001b[0m\u001b[1;33m(\u001b[0m\u001b[0mtile\u001b[0m\u001b[1;33m[\u001b[0m\u001b[1;34m'data'\u001b[0m\u001b[1;33m]\u001b[0m\u001b[1;33m.\u001b[0m\u001b[0mkeys\u001b[0m\u001b[1;33m)\u001b[0m \u001b[1;33m==\u001b[0m \u001b[1;36m0\u001b[0m\u001b[1;33m:\u001b[0m\u001b[1;33m\u001b[0m\u001b[1;33m\u001b[0m\u001b[0m\n\u001b[0m\u001b[0;32m      4\u001b[0m             \u001b[0mprint\u001b[0m\u001b[1;33m(\u001b[0m\u001b[0mtile\u001b[0m\u001b[1;33m[\u001b[0m\u001b[1;34m'tileid'\u001b[0m\u001b[1;33m]\u001b[0m\u001b[1;33m)\u001b[0m\u001b[1;33m\u001b[0m\u001b[1;33m\u001b[0m\u001b[0m\n",
      "\u001b[1;31mTypeError\u001b[0m: object of type 'builtin_function_or_method' has no len()"
     ]
    }
   ],
   "source": [
    "for resource in ll_data['business_data']['resources']:\n",
    "    for tile in resource['tiles']:\n",
    "        if len(tile['data'].keys) == 0:\n",
    "            print(tile['tileid'])"
   ]
  },
  {
   "cell_type": "code",
   "execution_count": null,
   "id": "28854547-adc9-4d97-a6f8-d5311cba5a47",
   "metadata": {},
   "outputs": [],
   "source": []
  }
 ],
 "metadata": {
  "kernelspec": {
   "display_name": "Python 3",
   "language": "python",
   "name": "python3"
  },
  "language_info": {
   "codemirror_mode": {
    "name": "ipython",
    "version": 3
   },
   "file_extension": ".py",
   "mimetype": "text/x-python",
   "name": "python",
   "nbconvert_exporter": "python",
   "pygments_lexer": "ipython3",
   "version": "3.8.5"
  }
 },
 "nbformat": 4,
 "nbformat_minor": 5
}
