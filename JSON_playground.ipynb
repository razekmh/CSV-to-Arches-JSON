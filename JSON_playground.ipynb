{
 "cells": [
  {
   "cell_type": "code",
   "execution_count": 14,
   "id": "c176cc49-1609-4ef2-b57e-df13cbd79333",
   "metadata": {},
   "outputs": [],
   "source": [
    "import json\n",
    "import yaml\n",
    "import uuid\n",
    "import csv"
   ]
  },
  {
   "cell_type": "code",
   "execution_count": null,
   "id": "6f9c30b1-1cc3-4002-9eb5-a3e36cc1352a",
   "metadata": {},
   "outputs": [],
   "source": [
    "# read json form resource model\n",
    "# extract the nodegroups and get the nodegroupids and the parentids\n",
    "# extrart nodeid, groupid and name of each node\n",
    "# find columns of data and match them with names of nodes\n",
    "# check if any data node needs a parent (create a parent list)\n",
    "# multiple attributes?"
   ]
  },
  {
   "cell_type": "code",
   "execution_count": 3,
   "id": "275c88d5-22da-44df-973e-4c24f66262cf",
   "metadata": {},
   "outputs": [],
   "source": [
    "# read json from resource model\n",
    "with open('Activity Resource Model.json', 'r') as file_rm:\n",
    "    rm_json = json.load(file_rm)"
   ]
  },
  {
   "cell_type": "code",
   "execution_count": 8,
   "id": "1ccb17f5-e206-4c82-b957-03c622fa93de",
   "metadata": {},
   "outputs": [],
   "source": [
    "# copy nodegroup object\n",
    "nodegroup_list = rm_json['graph'][0]['nodegroups']"
   ]
  },
  {
   "cell_type": "code",
   "execution_count": 48,
   "id": "d3c48783-8a0c-4fa6-8318-287b052b03f3",
   "metadata": {},
   "outputs": [],
   "source": [
    "# get global parameters\n",
    "graphid = rm_json['graph'][0]['cards'][0]['graph_id']"
   ]
  },
  {
   "cell_type": "code",
   "execution_count": 36,
   "id": "7bec9c29-ee7e-4700-abb0-c78a97cf5572",
   "metadata": {},
   "outputs": [
    {
     "data": {
      "text/plain": [
       "{'nodeid': '0cbaba67-e742-11e6-84a6-026d961c88e6',\n",
       " 'nodegroup_id': '0cbaba63-e742-11e6-84a6-026d961c88e6',\n",
       " 'name': 'Beginning of Existence Time Span'}"
      ]
     },
     "execution_count": 36,
     "metadata": {},
     "output_type": "execute_result"
    }
   ],
   "source": [
    "# get node attributes\n",
    "node_list = []\n",
    "for node in rm_json['graph'][0]['nodes']:\n",
    "    node_list.append({\n",
    "        'nodeid' : node['nodeid'],\n",
    "        'nodegroup_id' : node['nodegroup_id'],\n",
    "        'name' : node['name'],\n",
    "    })\n",
    "node_list[0]"
   ]
  },
  {
   "cell_type": "code",
   "execution_count": 23,
   "id": "b61540d5-99ac-4236-be2b-3aa9b140338a",
   "metadata": {},
   "outputs": [
    {
     "data": {
      "text/plain": [
       "{'Start Date of Existence': '2021-07-22',\n",
       " 'Start Date Type': 'Built Date',\n",
       " 'Cadastral Reference': 'Cadastral Reference',\n",
       " 'Description Type': '',\n",
       " 'Name Type': 'California Historic Landmark',\n",
       " 'External Identifier Type': 'DOI',\n",
       " 'End Date Type': 'Demolition Date',\n",
       " 'Administrative Subdivision Name': 'Administrative Subdivision Name',\n",
       " 'Administrative Subdivision Type': '',\n",
       " 'Activity Type': 'building permit',\n",
       " 'Name': 'Name',\n",
       " 'Geometry Qualifier': '',\n",
       " 'To Date': '2021-07-08',\n",
       " 'Address Type': '',\n",
       " 'From Date': '2021-07-29',\n",
       " 'Place Description': 'Place Description',\n",
       " 'End Date of Existence': '2021-07-13',\n",
       " 'Description': 'Description',\n",
       " 'Keyword': '1820s',\n",
       " 'External Source': '',\n",
       " 'resourceid': 'dd9f5852-2375-4852-8a75-401fdd27129a'}"
      ]
     },
     "execution_count": 23,
     "metadata": {},
     "output_type": "execute_result"
    }
   ],
   "source": [
    "# open data file\n",
    "with open(\"Activity Resource Model_data.csv\") as file_act_data:\n",
    "    act_data = csv.DictReader(file_act_data)\n",
    "    for row in act_data:\n",
    "        global data_dict\n",
    "        data_dict = row\n",
    "data_dict"
   ]
  },
  {
   "cell_type": "code",
   "execution_count": 42,
   "id": "1800b806-c070-4687-9e51-e672ae9ff355",
   "metadata": {},
   "outputs": [
    {
     "name": "stdout",
     "output_type": "stream",
     "text": [
      "f74db658-e741-11e6-84a6-026d961c88e6\n",
      "Place Address \n",
      "\n",
      "\n",
      "\n",
      "f74db658-e741-11e6-84a6-026d961c88e6\n",
      "Cadastral Reference \n",
      "\n",
      "\n",
      "\n",
      "85c6a1be-e741-11e6-84a6-026d961c88e6\n",
      "Time Span Phase \n",
      "\n",
      "\n",
      "\n",
      "f74db658-e741-11e6-84a6-026d961c88e6\n",
      "Administration Subdivision \n",
      "\n",
      "\n",
      "\n",
      "85c6a1be-e741-11e6-84a6-026d961c88e6\n",
      "Phase Type Assignment \n",
      "\n",
      "\n",
      "\n",
      "f74db658-e741-11e6-84a6-026d961c88e6\n",
      "Spatial Coordinates Geometry \n",
      "\n",
      "\n",
      "\n",
      "f74db658-e741-11e6-84a6-026d961c88e6\n",
      "Administrative Subdivision Name \n",
      "\n",
      "\n",
      "\n",
      "f74db658-e741-11e6-84a6-026d961c88e6\n",
      "Administrative Subdivision Type \n",
      "\n",
      "\n",
      "\n",
      "85c6a1be-e741-11e6-84a6-026d961c88e6\n",
      "Activity Type \n",
      "\n",
      "\n",
      "\n",
      "f74db658-e741-11e6-84a6-026d961c88e6\n",
      "Geometry Qualifier \n",
      "\n",
      "\n",
      "\n",
      "f74db658-e741-11e6-84a6-026d961c88e6\n",
      "Place Description Assignment \n",
      "\n",
      "\n",
      "\n",
      "85c6a1be-e741-11e6-84a6-026d961c88e6\n",
      "To Date \n",
      "\n",
      "\n",
      "\n",
      "f74db658-e741-11e6-84a6-026d961c88e6\n",
      "Address Type \n",
      "\n",
      "\n",
      "\n",
      "85c6a1be-e741-11e6-84a6-026d961c88e6\n",
      "From Date \n",
      "\n",
      "\n",
      "\n",
      "f74db658-e741-11e6-84a6-026d961c88e6\n",
      "Place Description \n",
      "\n",
      "\n",
      "\n"
     ]
    }
   ],
   "source": [
    "# check if node has a perant\n",
    "for node in node_list:\n",
    "    for nodegroup in nodegroup_list:\n",
    "        if node['nodegroup_id'] == nodegroup['nodegroupid'] and nodegroup['parentnodegroup_id']:\n",
    "            print (nodegroup['parentnodegroup_id'])"
   ]
  },
  {
   "cell_type": "code",
   "execution_count": 32,
   "id": "4fff38a5-425f-4df2-8980-892bf0798546",
   "metadata": {},
   "outputs": [
    {
     "data": {
      "text/plain": [
       "{'cardinality': 'n',\n",
       " 'legacygroupid': None,\n",
       " 'nodegroupid': 'ab7463df-e741-11e6-84a6-026d961c88e6',\n",
       " 'parentnodegroup_id': None}"
      ]
     },
     "execution_count": 32,
     "metadata": {},
     "output_type": "execute_result"
    }
   ],
   "source": [
    "nodegroup_list[0]"
   ]
  },
  {
   "cell_type": "code",
   "execution_count": 26,
   "id": "34d74cc1-db1d-4758-ac62-5d4d3f9eed37",
   "metadata": {},
   "outputs": [
    {
     "name": "stdout",
     "output_type": "stream",
     "text": [
      "Start Date of Existence 0cbaba69-e742-11e6-84a6-026d961c88e6 Start Date of Existence\n",
      "Start Date Type 0cbaba6a-e742-11e6-84a6-026d961c88e6 Start Date Type\n",
      "Cadastral Reference f74db652-e741-11e6-84a6-026d961c88e6 Cadastral Reference\n",
      "Description Type ab7463e3-e741-11e6-84a6-026d961c88e6 Description Type\n",
      "Name Type b9e90914-e741-11e6-84a6-026d961c88e6 Name Type\n",
      "Keyword 2b6dd397-e741-11e6-84a6-026d961c88e6 Keyword\n",
      "External Identifier Type 61f1a1bc-e741-11e6-84a6-026d961c88e6 External Identifier Type\n",
      "End Date Type 0cbaba6d-e742-11e6-84a6-026d961c88e6 End Date Type\n",
      "Administrative Subdivision Name f74db65c-e741-11e6-84a6-026d961c88e6 Administrative Subdivision Name\n",
      "Administrative Subdivision Type f74db65d-e741-11e6-84a6-026d961c88e6 Administrative Subdivision Type\n",
      "Activity Type 85c6a1c4-e741-11e6-84a6-026d961c88e6 Activity Type\n",
      "Name b9e90911-e741-11e6-84a6-026d961c88e6 Name\n",
      "External Source 61f1a1bd-e741-11e6-84a6-026d961c88e6 External Source\n",
      "Geometry Qualifier f74db65f-e741-11e6-84a6-026d961c88e6 Geometry Qualifier\n",
      "To Date 85c6a1c1-e741-11e6-84a6-026d961c88e6 To Date\n",
      "Address Type f74db65b-e741-11e6-84a6-026d961c88e6 Address Type\n",
      "From Date 85c6a1c3-e741-11e6-84a6-026d961c88e6 From Date\n",
      "Place Description f74db65e-e741-11e6-84a6-026d961c88e6 Place Description\n",
      "End Date of Existence 0cbaba66-e742-11e6-84a6-026d961c88e6 End Date of Existence\n"
     ]
    }
   ],
   "source": [
    "# compare data with node keys\n",
    "for node in node_list:\n",
    "    for key in data_dict.keys():\n",
    "        if node['name'] == key:\n",
    "            print (node['name'], node['nodeid'], key)\n",
    "            if node['']"
   ]
  },
  {
   "cell_type": "code",
   "execution_count": 36,
   "id": "42af88af-35f7-4e72-aafd-1434d1696711",
   "metadata": {},
   "outputs": [],
   "source": [
    "with open(\"local_settings.yml\", \"r\") as yamlfile:\n",
    "    config = yaml.load(yamlfile, Loader=yaml.FullLoader)"
   ]
  },
  {
   "cell_type": "code",
   "execution_count": 71,
   "id": "36178aab-abdd-40e7-b5d3-795a31a5b65b",
   "metadata": {},
   "outputs": [
    {
     "data": {
      "text/plain": [
       "dict_keys(['UUID', 'Date', 'Start Dating method', 'Start Archeological Period'])"
      ]
     },
     "execution_count": 71,
     "metadata": {},
     "output_type": "execute_result"
    }
   ],
   "source": [
    "list(config['Basic']['GRAPH']['cards'].items())[1][1].keys()"
   ]
  },
  {
   "cell_type": "code",
   "execution_count": 43,
   "id": "36e38709-397a-4397-92a2-ffdda9fde673",
   "metadata": {},
   "outputs": [
    {
     "data": {
      "text/plain": [
       "dict_keys(['Recorder', 'Start Date'])"
      ]
     },
     "execution_count": 43,
     "metadata": {},
     "output_type": "execute_result"
    }
   ],
   "source": [
    "config['Basic']['GRAPH']['cards'].keys()"
   ]
  },
  {
   "cell_type": "code",
   "execution_count": 48,
   "id": "7891faa6-5736-4242-a5b8-ee4bf1170860",
   "metadata": {},
   "outputs": [],
   "source": [
    "csv_row = {\n",
    "    \"Recorder\"   : \"person\",\n",
    "    \"Start Date\" : \"10/10/10\",\n",
    "    \"Date\"       : \"Date_data\",\n",
    "    \"Start Dating method\" : \"Data Start Dating method\",\n",
    "    \"Start Archeological Period\" : \"DATA Start Archeological Period\"\n",
    "}"
   ]
  },
  {
   "cell_type": "code",
   "execution_count": 87,
   "id": "4dd9adab-b41a-4efc-b9d0-1776d8accb3f",
   "metadata": {},
   "outputs": [],
   "source": [
    "def parse_config(config):\n",
    "    graphid = config['Basic']['GRAPH']['UUID']\n",
    "    cards = list(config['Basic']['GRAPH']['cards'].items())\n",
    "    return graphid, cards"
   ]
  },
  {
   "cell_type": "code",
   "execution_count": 5,
   "id": "d16dbbea-bb8b-4fd5-9743-261e3468f390",
   "metadata": {},
   "outputs": [],
   "source": [
    "def create_json(resources):\n",
    "    \n",
    "    json_data = {}\n",
    "    resources_list = {'resources' : resources}\n",
    "    json_data['business_data'] = resources_list\n",
    "    return json_data"
   ]
  },
  {
   "cell_type": "code",
   "execution_count": 80,
   "id": "d066da2f-180e-463d-a3e8-71855a9f57b5",
   "metadata": {},
   "outputs": [],
   "source": [
    "def create_res(graphid, cards, legacy_id=''):\n",
    "    # create resource instance\n",
    "    id = legacy_id\n",
    "    if id == '':\n",
    "        id = str(uuid.uuid4())\n",
    "    res = {}\n",
    "    res['resourceinstance'] = {\n",
    "        \"resourceinstanceid\" : id, \"graph_id\" : str(graphid), \"legacyid\" : id}\n",
    "    tiles =[]\n",
    "    for card in cards:\n",
    "        tiles.append(create_tile(card, id, card[1]['UUID']))\n",
    "    res['tiles'] = tiles\n",
    "    return res"
   ]
  },
  {
   "cell_type": "code",
   "execution_count": 49,
   "id": "9d851675-42ef-4c73-a0fc-adffad706774",
   "metadata": {},
   "outputs": [],
   "source": [
    "def create_tile(card, resid, nodegroup_id, parent=None):\n",
    "    # create tile\n",
    "    tile = {}\n",
    "    tile['tileid'] = str(uuid.uuid4())\n",
    "    tile['resourceinstance_id'] = resid\n",
    "    tile['nodegroup_id'] = nodegroup_id\n",
    "    tile['sortorder'] = 0\n",
    "    tile['parenttile_id'] = None\n",
    "    tile['data'] = Build_data(card)\n",
    "    return tile"
   ]
  },
  {
   "cell_type": "code",
   "execution_count": 82,
   "id": "8fa82860-9217-4cf2-8f2e-d53dfcd0a986",
   "metadata": {},
   "outputs": [],
   "source": [
    "def Build_data(card):\n",
    "    data = {}\n",
    "    for key in [key for key in card[1].keys() if key != 'UUID']:\n",
    "        data[card[1][key]] = csv_row[key]\n",
    "    return data"
   ]
  },
  {
   "cell_type": "code",
   "execution_count": 95,
   "id": "d56224c3-30a2-4e8e-88cb-557593188edf",
   "metadata": {},
   "outputs": [],
   "source": [
    "def build_json():\n",
    "    graphid, cards = parse_config(config)\n",
    "    resources = create_res(graphid, cards)\n",
    "    \n",
    "    built = create_json(resources)\n",
    "    return built"
   ]
  },
  {
   "cell_type": "code",
   "execution_count": 96,
   "id": "0acb3d8a-9386-4c0d-952f-ca2cf17cc438",
   "metadata": {},
   "outputs": [
    {
     "data": {
      "text/plain": [
       "{'business_data': {'resources': {'resourceinstance': {'resourceinstanceid': 'd9b318bc-fae9-4e5e-a938-5bc5202720bd',\n",
       "    'graph_id': 'b702e11e-ea41-11eb-86da-fa163ee7ffac',\n",
       "    'legacyid': 'd9b318bc-fae9-4e5e-a938-5bc5202720bd'},\n",
       "   'tiles': [{'tileid': '2705c059-8014-4590-93c9-2c9cb7f26c2d',\n",
       "     'resourceinstance_id': 'd9b318bc-fae9-4e5e-a938-5bc5202720bd',\n",
       "     'nodegroup_id': 'b702e13d-ea41-11eb-86da-fa163ee7ffac',\n",
       "     'sortorder': 0,\n",
       "     'parenttile_id': None,\n",
       "     'data': {'b702e13d-ea41-11eb-86da-fa163ee7ffac': 'person'}},\n",
       "    {'tileid': '33e1f567-1cfb-4ea8-a3de-f150106e979c',\n",
       "     'resourceinstance_id': 'd9b318bc-fae9-4e5e-a938-5bc5202720bd',\n",
       "     'nodegroup_id': 'b702e11f-ea41-11eb-86da-fa163ee7ffac',\n",
       "     'sortorder': 0,\n",
       "     'parenttile_id': None,\n",
       "     'data': {'b702e147-ea41-11eb-86da-fa163ee7ffac': 'Date_data',\n",
       "      'b702e148-ea41-11eb-86da-fa163ee7ffac': 'Data Start Dating method',\n",
       "      'b702e14d-ea41-11eb-86da-fa163ee7ffac': 'DATA Start Archeological Period'}}]}}}"
      ]
     },
     "execution_count": 96,
     "metadata": {},
     "output_type": "execute_result"
    }
   ],
   "source": [
    "build_json()"
   ]
  },
  {
   "cell_type": "code",
   "execution_count": 8,
   "id": "e6ebd0ab-7bf5-4d67-a8b8-f8cc87e6cc45",
   "metadata": {},
   "outputs": [
    {
     "data": {
      "text/plain": [
       "{'tileid': '9ce055d8-d01e-4e1c-ba84-73863099d4b9',\n",
       " 'resourceinstance_id': 10,\n",
       " 'nodegroup_id': 20,\n",
       " 'sortorder': 0,\n",
       " 'parenttile_id': None,\n",
       " 'data': {}}"
      ]
     },
     "execution_count": 8,
     "metadata": {},
     "output_type": "execute_result"
    }
   ],
   "source": [
    "create_tile(10,20)"
   ]
  },
  {
   "cell_type": "code",
   "execution_count": 6,
   "id": "52d458bc-dcc2-4875-b598-94901337c104",
   "metadata": {},
   "outputs": [
    {
     "data": {
      "text/plain": [
       "{'business_data': {'resources': [{'resourceinstance': {'resourceinstanceid': '6e74c004-0700-4225-88cc-6849f6f9545b',\n",
       "     'graph_id': '8b2424cb-d34b-11eb-86da-fa163ee7ffac',\n",
       "     'legacyid': '6e74c004-0700-4225-88cc-6849f6f9545b'},\n",
       "    'tiles': []},\n",
       "   {'resourceinstance': {'resourceinstanceid': '98889f3f-5d76-409b-b016-17a1ea4a0fad',\n",
       "     'graph_id': '8b2424cb-d34b-11eb-86da-fa163ee7ffac',\n",
       "     'legacyid': '98889f3f-5d76-409b-b016-17a1ea4a0fad'},\n",
       "    'tiles': []},\n",
       "   {'resourceinstance': {'resourceinstanceid': '5696b279-be4d-4734-9404-bc3f0eb48d32',\n",
       "     'graph_id': '8b2424cb-d34b-11eb-86da-fa163ee7ffac',\n",
       "     'legacyid': '5696b279-be4d-4734-9404-bc3f0eb48d32'},\n",
       "    'tiles': []},\n",
       "   {'resourceinstance': {'resourceinstanceid': 'fda316e8-d9b6-40f4-90b8-6caba04c70bb',\n",
       "     'graph_id': '8b2424cb-d34b-11eb-86da-fa163ee7ffac',\n",
       "     'legacyid': 'fda316e8-d9b6-40f4-90b8-6caba04c70bb'},\n",
       "    'tiles': []},\n",
       "   {'resourceinstance': {'resourceinstanceid': '561b7c8a-d423-4233-a266-2a708b81cbf9',\n",
       "     'graph_id': '8b2424cb-d34b-11eb-86da-fa163ee7ffac',\n",
       "     'legacyid': '561b7c8a-d423-4233-a266-2a708b81cbf9'},\n",
       "    'tiles': []},\n",
       "   {'resourceinstance': {'resourceinstanceid': '9fddb4e9-d206-428c-b460-b7210b42238c',\n",
       "     'graph_id': '8b2424cb-d34b-11eb-86da-fa163ee7ffac',\n",
       "     'legacyid': '9fddb4e9-d206-428c-b460-b7210b42238c'},\n",
       "    'tiles': []},\n",
       "   {'resourceinstance': {'resourceinstanceid': 'b9d744a9-a792-47a4-8725-fb3a20221f96',\n",
       "     'graph_id': '8b2424cb-d34b-11eb-86da-fa163ee7ffac',\n",
       "     'legacyid': 'b9d744a9-a792-47a4-8725-fb3a20221f96'},\n",
       "    'tiles': []},\n",
       "   {'resourceinstance': {'resourceinstanceid': '78f07be2-ccf2-4b27-89af-7019d3803554',\n",
       "     'graph_id': '8b2424cb-d34b-11eb-86da-fa163ee7ffac',\n",
       "     'legacyid': '78f07be2-ccf2-4b27-89af-7019d3803554'},\n",
       "    'tiles': []},\n",
       "   {'resourceinstance': {'resourceinstanceid': '072f30b5-7db5-45f2-842a-80f154310ee0',\n",
       "     'graph_id': '8b2424cb-d34b-11eb-86da-fa163ee7ffac',\n",
       "     'legacyid': '072f30b5-7db5-45f2-842a-80f154310ee0'},\n",
       "    'tiles': []},\n",
       "   {'resourceinstance': {'resourceinstanceid': '3456f939-60aa-49b2-ae0e-d0eb4e93e4ee',\n",
       "     'graph_id': '8b2424cb-d34b-11eb-86da-fa163ee7ffac',\n",
       "     'legacyid': '3456f939-60aa-49b2-ae0e-d0eb4e93e4ee'},\n",
       "    'tiles': []}]}}"
      ]
     },
     "execution_count": 6,
     "metadata": {},
     "output_type": "execute_result"
    }
   ],
   "source": [
    "items = []\n",
    "for i in range(10):\n",
    "    items.append(create_res(config['Basic']['GRAPH_ID']))\n",
    "create_json(items)"
   ]
  },
  {
   "cell_type": "code",
   "execution_count": 29,
   "id": "5d0b0d2c-0554-4fff-84e2-1fdc151c243e",
   "metadata": {},
   "outputs": [],
   "source": [
    "json_data = json.loads(json.dumps(create_json(items),indent = 4))"
   ]
  },
  {
   "cell_type": "code",
   "execution_count": 30,
   "id": "fd2cd96c-51f5-4706-b817-e5ada7cd9850",
   "metadata": {},
   "outputs": [
    {
     "data": {
      "text/plain": [
       "{'business_data': {'resources': [{'resourceinstance': {'resourceinstanceid': '6e74c004-0700-4225-88cc-6849f6f9545b',\n",
       "     'graph_id': '8b2424cb-d34b-11eb-86da-fa163ee7ffac',\n",
       "     'legacyid': '6e74c004-0700-4225-88cc-6849f6f9545b'},\n",
       "    'tiles': []},\n",
       "   {'resourceinstance': {'resourceinstanceid': '98889f3f-5d76-409b-b016-17a1ea4a0fad',\n",
       "     'graph_id': '8b2424cb-d34b-11eb-86da-fa163ee7ffac',\n",
       "     'legacyid': '98889f3f-5d76-409b-b016-17a1ea4a0fad'},\n",
       "    'tiles': []},\n",
       "   {'resourceinstance': {'resourceinstanceid': '5696b279-be4d-4734-9404-bc3f0eb48d32',\n",
       "     'graph_id': '8b2424cb-d34b-11eb-86da-fa163ee7ffac',\n",
       "     'legacyid': '5696b279-be4d-4734-9404-bc3f0eb48d32'},\n",
       "    'tiles': []},\n",
       "   {'resourceinstance': {'resourceinstanceid': 'fda316e8-d9b6-40f4-90b8-6caba04c70bb',\n",
       "     'graph_id': '8b2424cb-d34b-11eb-86da-fa163ee7ffac',\n",
       "     'legacyid': 'fda316e8-d9b6-40f4-90b8-6caba04c70bb'},\n",
       "    'tiles': []},\n",
       "   {'resourceinstance': {'resourceinstanceid': '561b7c8a-d423-4233-a266-2a708b81cbf9',\n",
       "     'graph_id': '8b2424cb-d34b-11eb-86da-fa163ee7ffac',\n",
       "     'legacyid': '561b7c8a-d423-4233-a266-2a708b81cbf9'},\n",
       "    'tiles': []},\n",
       "   {'resourceinstance': {'resourceinstanceid': '9fddb4e9-d206-428c-b460-b7210b42238c',\n",
       "     'graph_id': '8b2424cb-d34b-11eb-86da-fa163ee7ffac',\n",
       "     'legacyid': '9fddb4e9-d206-428c-b460-b7210b42238c'},\n",
       "    'tiles': []},\n",
       "   {'resourceinstance': {'resourceinstanceid': 'b9d744a9-a792-47a4-8725-fb3a20221f96',\n",
       "     'graph_id': '8b2424cb-d34b-11eb-86da-fa163ee7ffac',\n",
       "     'legacyid': 'b9d744a9-a792-47a4-8725-fb3a20221f96'},\n",
       "    'tiles': []},\n",
       "   {'resourceinstance': {'resourceinstanceid': '78f07be2-ccf2-4b27-89af-7019d3803554',\n",
       "     'graph_id': '8b2424cb-d34b-11eb-86da-fa163ee7ffac',\n",
       "     'legacyid': '78f07be2-ccf2-4b27-89af-7019d3803554'},\n",
       "    'tiles': []},\n",
       "   {'resourceinstance': {'resourceinstanceid': '072f30b5-7db5-45f2-842a-80f154310ee0',\n",
       "     'graph_id': '8b2424cb-d34b-11eb-86da-fa163ee7ffac',\n",
       "     'legacyid': '072f30b5-7db5-45f2-842a-80f154310ee0'},\n",
       "    'tiles': []},\n",
       "   {'resourceinstance': {'resourceinstanceid': '3456f939-60aa-49b2-ae0e-d0eb4e93e4ee',\n",
       "     'graph_id': '8b2424cb-d34b-11eb-86da-fa163ee7ffac',\n",
       "     'legacyid': '3456f939-60aa-49b2-ae0e-d0eb4e93e4ee'},\n",
       "    'tiles': []}]}}"
      ]
     },
     "execution_count": 30,
     "metadata": {},
     "output_type": "execute_result"
    }
   ],
   "source": [
    "json_data"
   ]
  },
  {
   "cell_type": "code",
   "execution_count": null,
   "id": "6368142b-0196-4769-ba81-40e670706cff",
   "metadata": {},
   "outputs": [],
   "source": [
    "with open('data.txt', 'w') as outfile:\n",
    "    json.dump(data, outfile)"
   ]
  }
 ],
 "metadata": {
  "kernelspec": {
   "display_name": "Python 3",
   "language": "python",
   "name": "python3"
  },
  "language_info": {
   "codemirror_mode": {
    "name": "ipython",
    "version": 3
   },
   "file_extension": ".py",
   "mimetype": "text/x-python",
   "name": "python",
   "nbconvert_exporter": "python",
   "pygments_lexer": "ipython3",
   "version": "3.8.5"
  }
 },
 "nbformat": 4,
 "nbformat_minor": 5
}
