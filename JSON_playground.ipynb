{
 "cells": [
  {
   "cell_type": "code",
   "execution_count": 13,
   "id": "c176cc49-1609-4ef2-b57e-df13cbd79333",
   "metadata": {},
   "outputs": [],
   "source": [
    "import json\n",
    "import yaml\n",
    "import uuid"
   ]
  },
  {
   "cell_type": "code",
   "execution_count": 14,
   "id": "42af88af-35f7-4e72-aafd-1434d1696711",
   "metadata": {},
   "outputs": [],
   "source": [
    "with open(\"local_settings.yml\", \"r\") as yamlfile:\n",
    "    config = yaml.load(yamlfile, Loader=yaml.FullLoader)"
   ]
  },
  {
   "cell_type": "code",
   "execution_count": 18,
   "id": "d16dbbea-bb8b-4fd5-9743-261e3468f390",
   "metadata": {},
   "outputs": [],
   "source": [
    "def create_json(resources):\n",
    "    json_data = {}\n",
    "    resources_list = {'resources' : resources}\n",
    "    json_data['business_data'] = resources_list\n",
    "    return json_data"
   ]
  },
  {
   "cell_type": "code",
   "execution_count": 19,
   "id": "d066da2f-180e-463d-a3e8-71855a9f57b5",
   "metadata": {},
   "outputs": [],
   "source": [
    "def create_res(graphid, legacy_id=''):\n",
    "    # create resource instance\n",
    "    id = legacy_id\n",
    "    if id == '':\n",
    "        id = str(uuid.uuid4())\n",
    "    item = {}\n",
    "    item['resourceinstance'] = {\n",
    "        \"resourceinstanceid\" : id, \"graph_id\" : str(graphid), \"legacyid\" : id}\n",
    "    item['tiles'] = []\n",
    "    return item"
   ]
  },
  {
   "cell_type": "code",
   "execution_count": 20,
   "id": "52d458bc-dcc2-4875-b598-94901337c104",
   "metadata": {},
   "outputs": [
    {
     "data": {
      "text/plain": [
       "{'business_data': {'resources': [{'resourceinstance': {'resourceinstanceid': '2c5e7df1-c4d1-4c38-8140-d5d673143b9a',\n",
       "     'graph_id': '8b2424cb-d34b-11eb-86da-fa163ee7ffac',\n",
       "     'legacyid': '2c5e7df1-c4d1-4c38-8140-d5d673143b9a'},\n",
       "    'tiles': []},\n",
       "   {'resourceinstance': {'resourceinstanceid': 'c2a72a56-a848-4891-9467-dde5a035bfb4',\n",
       "     'graph_id': '8b2424cb-d34b-11eb-86da-fa163ee7ffac',\n",
       "     'legacyid': 'c2a72a56-a848-4891-9467-dde5a035bfb4'},\n",
       "    'tiles': []},\n",
       "   {'resourceinstance': {'resourceinstanceid': 'ea96fab8-e2af-41f1-8eae-eb2ca60344f1',\n",
       "     'graph_id': '8b2424cb-d34b-11eb-86da-fa163ee7ffac',\n",
       "     'legacyid': 'ea96fab8-e2af-41f1-8eae-eb2ca60344f1'},\n",
       "    'tiles': []},\n",
       "   {'resourceinstance': {'resourceinstanceid': 'b2e72931-c4e0-45ae-814c-4726fedfdc39',\n",
       "     'graph_id': '8b2424cb-d34b-11eb-86da-fa163ee7ffac',\n",
       "     'legacyid': 'b2e72931-c4e0-45ae-814c-4726fedfdc39'},\n",
       "    'tiles': []},\n",
       "   {'resourceinstance': {'resourceinstanceid': '756b09ed-f1d1-48f3-b6ea-7a9ff7a435e8',\n",
       "     'graph_id': '8b2424cb-d34b-11eb-86da-fa163ee7ffac',\n",
       "     'legacyid': '756b09ed-f1d1-48f3-b6ea-7a9ff7a435e8'},\n",
       "    'tiles': []},\n",
       "   {'resourceinstance': {'resourceinstanceid': '9334615f-010e-471d-ac57-217662e73fdc',\n",
       "     'graph_id': '8b2424cb-d34b-11eb-86da-fa163ee7ffac',\n",
       "     'legacyid': '9334615f-010e-471d-ac57-217662e73fdc'},\n",
       "    'tiles': []},\n",
       "   {'resourceinstance': {'resourceinstanceid': '9ea5a6bc-afa5-4a0e-b340-796ef63cce0b',\n",
       "     'graph_id': '8b2424cb-d34b-11eb-86da-fa163ee7ffac',\n",
       "     'legacyid': '9ea5a6bc-afa5-4a0e-b340-796ef63cce0b'},\n",
       "    'tiles': []},\n",
       "   {'resourceinstance': {'resourceinstanceid': '70bac191-47e8-499a-80a3-b6ccede53230',\n",
       "     'graph_id': '8b2424cb-d34b-11eb-86da-fa163ee7ffac',\n",
       "     'legacyid': '70bac191-47e8-499a-80a3-b6ccede53230'},\n",
       "    'tiles': []},\n",
       "   {'resourceinstance': {'resourceinstanceid': '4860dbb5-ec34-499a-adf9-a05a6db98d0f',\n",
       "     'graph_id': '8b2424cb-d34b-11eb-86da-fa163ee7ffac',\n",
       "     'legacyid': '4860dbb5-ec34-499a-adf9-a05a6db98d0f'},\n",
       "    'tiles': []},\n",
       "   {'resourceinstance': {'resourceinstanceid': 'cea54441-d68f-4a25-96d8-8f5ffb49f309',\n",
       "     'graph_id': '8b2424cb-d34b-11eb-86da-fa163ee7ffac',\n",
       "     'legacyid': 'cea54441-d68f-4a25-96d8-8f5ffb49f309'},\n",
       "    'tiles': []}]}}"
      ]
     },
     "execution_count": 20,
     "metadata": {},
     "output_type": "execute_result"
    }
   ],
   "source": [
    "items = []\n",
    "for i in range(10):\n",
    "    items.append(create_res(config['Basic']['GRAPH_ID']))\n",
    "create_json(items)"
   ]
  },
  {
   "cell_type": "code",
   "execution_count": 19,
   "id": "5d0b0d2c-0554-4fff-84e2-1fdc151c243e",
   "metadata": {},
   "outputs": [],
   "source": [
    "json_data = json.loads(data)"
   ]
  },
  {
   "cell_type": "code",
   "execution_count": 25,
   "id": "2e91f1cf-a8d5-4079-a01e-4ddddc9121a5",
   "metadata": {},
   "outputs": [],
   "source": [
    "resources_list = {'resources' : [{\n",
    "                \"resourceinstance\": {},\n",
    "                \"tiles\": [],\n",
    "            }] }"
   ]
  },
  {
   "cell_type": "code",
   "execution_count": 26,
   "id": "17281c20-ba7b-42ef-9f2b-1313b40a2ab4",
   "metadata": {},
   "outputs": [],
   "source": [
    "json_data['business_data'] = resources_list"
   ]
  },
  {
   "cell_type": "code",
   "execution_count": 28,
   "id": "fd2cd96c-51f5-4706-b817-e5ada7cd9850",
   "metadata": {},
   "outputs": [
    {
     "data": {
      "text/plain": [
       "{'business_data': {'resources': [{'resourceinstance': {}, 'tiles': []}]}}"
      ]
     },
     "execution_count": 28,
     "metadata": {},
     "output_type": "execute_result"
    }
   ],
   "source": [
    "json_data"
   ]
  },
  {
   "cell_type": "code",
   "execution_count": null,
   "id": "6368142b-0196-4769-ba81-40e670706cff",
   "metadata": {},
   "outputs": [],
   "source": [
    "with open('data.txt', 'w') as outfile:\n",
    "    json.dump(data, outfile)"
   ]
  }
 ],
 "metadata": {
  "kernelspec": {
   "display_name": "Python 3",
   "language": "python",
   "name": "python3"
  },
  "language_info": {
   "codemirror_mode": {
    "name": "ipython",
    "version": 3
   },
   "file_extension": ".py",
   "mimetype": "text/x-python",
   "name": "python",
   "nbconvert_exporter": "python",
   "pygments_lexer": "ipython3",
   "version": "3.8.5"
  }
 },
 "nbformat": 4,
 "nbformat_minor": 5
}
