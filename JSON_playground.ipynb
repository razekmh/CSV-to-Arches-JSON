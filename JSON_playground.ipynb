{
 "cells": [
  {
   "cell_type": "code",
   "execution_count": 2,
   "id": "c176cc49-1609-4ef2-b57e-df13cbd79333",
   "metadata": {},
   "outputs": [],
   "source": [
    "import json\n",
    "import yaml"
   ]
  },
  {
   "cell_type": "code",
   "execution_count": 5,
   "id": "42af88af-35f7-4e72-aafd-1434d1696711",
   "metadata": {},
   "outputs": [],
   "source": [
    "with open(\"local_settings.yml\", \"r\") as yamlfile:\n",
    "    config = yaml.load(yamlfile, Loader=yaml.FullLoader)"
   ]
  },
  {
   "cell_type": "code",
   "execution_count": 1,
   "id": "d066da2f-180e-463d-a3e8-71855a9f57b5",
   "metadata": {},
   "outputs": [],
   "source": [
    "def create_res(graphid, legacy_id=''):\n",
    "    # create resource instance\n",
    "    id = legacy_id\n",
    "    if id == '':\n",
    "        id = str(uuid.uuid4())\n",
    "    item = {}\n",
    "    item['resourceinstance'] = {\n",
    "        \"resourceinstanceid\" : id, \"graph_id\" : str(graphid), \"legacyid\" : id}\n",
    "    item['tiles'] = []\n",
    "    return item"
   ]
  },
  {
   "cell_type": "code",
   "execution_count": 10,
   "id": "52d458bc-dcc2-4875-b598-94901337c104",
   "metadata": {},
   "outputs": [],
   "source": [
    "data = \"{}\""
   ]
  },
  {
   "cell_type": "code",
   "execution_count": 19,
   "id": "5d0b0d2c-0554-4fff-84e2-1fdc151c243e",
   "metadata": {},
   "outputs": [],
   "source": [
    "json_data = json.loads(data)"
   ]
  },
  {
   "cell_type": "code",
   "execution_count": 25,
   "id": "2e91f1cf-a8d5-4079-a01e-4ddddc9121a5",
   "metadata": {},
   "outputs": [],
   "source": [
    "resources_list = {'resources' : [{\n",
    "                \"resourceinstance\": {},\n",
    "                \"tiles\": [],\n",
    "            }] }"
   ]
  },
  {
   "cell_type": "code",
   "execution_count": 26,
   "id": "17281c20-ba7b-42ef-9f2b-1313b40a2ab4",
   "metadata": {},
   "outputs": [],
   "source": [
    "json_data['business_data'] = resources_list"
   ]
  },
  {
   "cell_type": "code",
   "execution_count": 28,
   "id": "fd2cd96c-51f5-4706-b817-e5ada7cd9850",
   "metadata": {},
   "outputs": [
    {
     "data": {
      "text/plain": [
       "{'business_data': {'resources': [{'resourceinstance': {}, 'tiles': []}]}}"
      ]
     },
     "execution_count": 28,
     "metadata": {},
     "output_type": "execute_result"
    }
   ],
   "source": [
    "json_data"
   ]
  },
  {
   "cell_type": "code",
   "execution_count": null,
   "id": "6368142b-0196-4769-ba81-40e670706cff",
   "metadata": {},
   "outputs": [],
   "source": [
    "with open('data.txt', 'w') as outfile:\n",
    "    json.dump(data, outfile)"
   ]
  }
 ],
 "metadata": {
  "kernelspec": {
   "display_name": "Python 3",
   "language": "python",
   "name": "python3"
  },
  "language_info": {
   "codemirror_mode": {
    "name": "ipython",
    "version": 3
   },
   "file_extension": ".py",
   "mimetype": "text/x-python",
   "name": "python",
   "nbconvert_exporter": "python",
   "pygments_lexer": "ipython3",
   "version": "3.8.5"
  }
 },
 "nbformat": 4,
 "nbformat_minor": 5
}
