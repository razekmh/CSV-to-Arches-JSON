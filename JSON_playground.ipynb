{
 "cells": [
  {
   "cell_type": "code",
   "execution_count": 3,
   "id": "c176cc49-1609-4ef2-b57e-df13cbd79333",
   "metadata": {},
   "outputs": [],
   "source": [
    "import json\n",
    "import yaml\n",
    "import uuid"
   ]
  },
  {
   "cell_type": "code",
   "execution_count": 14,
   "id": "42af88af-35f7-4e72-aafd-1434d1696711",
   "metadata": {},
   "outputs": [],
   "source": [
    "with open(\"local_settings.yml\", \"r\") as yamlfile:\n",
    "    config = yaml.load(yamlfile, Loader=yaml.FullLoader)"
   ]
  },
  {
   "cell_type": "code",
   "execution_count": 19,
   "id": "4dd9adab-b41a-4efc-b9d0-1776d8accb3f",
   "metadata": {},
   "outputs": [
    {
     "data": {
      "text/plain": [
       "'8b2424cb-d34b-11eb-86da-fa163ee7ffac'"
      ]
     },
     "execution_count": 19,
     "metadata": {},
     "output_type": "execute_result"
    }
   ],
   "source": [
    "config['Basic']['GRAPH_ID']['UUID']"
   ]
  },
  {
   "cell_type": "code",
   "execution_count": 5,
   "id": "d16dbbea-bb8b-4fd5-9743-261e3468f390",
   "metadata": {},
   "outputs": [],
   "source": [
    "def create_json(resources):\n",
    "    json_data = {}\n",
    "    resources_list = {'resources' : resources}\n",
    "    json_data['business_data'] = resources_list\n",
    "    return json_data"
   ]
  },
  {
   "cell_type": "code",
   "execution_count": 6,
   "id": "d066da2f-180e-463d-a3e8-71855a9f57b5",
   "metadata": {},
   "outputs": [],
   "source": [
    "def create_res(graphid, legacy_id=''):\n",
    "    # create resource instance\n",
    "    id = legacy_id\n",
    "    if id == '':\n",
    "        id = str(uuid.uuid4())\n",
    "    item = {}\n",
    "    item['resourceinstance'] = {\n",
    "        \"resourceinstanceid\" : id, \"graph_id\" : str(graphid), \"legacyid\" : id}\n",
    "    item['tiles'] = []\n",
    "    return item"
   ]
  },
  {
   "cell_type": "code",
   "execution_count": 9,
   "id": "9d851675-42ef-4c73-a0fc-adffad706774",
   "metadata": {},
   "outputs": [],
   "source": [
    "def create_tile(resid, nodegroup_id, parent=None):\n",
    "    # create tile\n",
    "    ret = {}\n",
    "    ret['tileid'] = str(uuid.uuid4())\n",
    "    ret['resourceinstance_id'] = resid\n",
    "    ret['nodegroup_id'] = nodegroup_id\n",
    "    ret['sortorder'] = 0\n",
    "    ret['parenttile_id'] = None\n",
    "    ret['data'] = {}\n",
    "    return ret"
   ]
  },
  {
   "cell_type": "code",
   "execution_count": 8,
   "id": "e6ebd0ab-7bf5-4d67-a8b8-f8cc87e6cc45",
   "metadata": {},
   "outputs": [
    {
     "data": {
      "text/plain": [
       "{'tileid': '9ce055d8-d01e-4e1c-ba84-73863099d4b9',\n",
       " 'resourceinstance_id': 10,\n",
       " 'nodegroup_id': 20,\n",
       " 'sortorder': 0,\n",
       " 'parenttile_id': None,\n",
       " 'data': {}}"
      ]
     },
     "execution_count": 8,
     "metadata": {},
     "output_type": "execute_result"
    }
   ],
   "source": [
    "create_tile(10,20)"
   ]
  },
  {
   "cell_type": "code",
   "execution_count": 6,
   "id": "52d458bc-dcc2-4875-b598-94901337c104",
   "metadata": {},
   "outputs": [
    {
     "data": {
      "text/plain": [
       "{'business_data': {'resources': [{'resourceinstance': {'resourceinstanceid': '6e74c004-0700-4225-88cc-6849f6f9545b',\n",
       "     'graph_id': '8b2424cb-d34b-11eb-86da-fa163ee7ffac',\n",
       "     'legacyid': '6e74c004-0700-4225-88cc-6849f6f9545b'},\n",
       "    'tiles': []},\n",
       "   {'resourceinstance': {'resourceinstanceid': '98889f3f-5d76-409b-b016-17a1ea4a0fad',\n",
       "     'graph_id': '8b2424cb-d34b-11eb-86da-fa163ee7ffac',\n",
       "     'legacyid': '98889f3f-5d76-409b-b016-17a1ea4a0fad'},\n",
       "    'tiles': []},\n",
       "   {'resourceinstance': {'resourceinstanceid': '5696b279-be4d-4734-9404-bc3f0eb48d32',\n",
       "     'graph_id': '8b2424cb-d34b-11eb-86da-fa163ee7ffac',\n",
       "     'legacyid': '5696b279-be4d-4734-9404-bc3f0eb48d32'},\n",
       "    'tiles': []},\n",
       "   {'resourceinstance': {'resourceinstanceid': 'fda316e8-d9b6-40f4-90b8-6caba04c70bb',\n",
       "     'graph_id': '8b2424cb-d34b-11eb-86da-fa163ee7ffac',\n",
       "     'legacyid': 'fda316e8-d9b6-40f4-90b8-6caba04c70bb'},\n",
       "    'tiles': []},\n",
       "   {'resourceinstance': {'resourceinstanceid': '561b7c8a-d423-4233-a266-2a708b81cbf9',\n",
       "     'graph_id': '8b2424cb-d34b-11eb-86da-fa163ee7ffac',\n",
       "     'legacyid': '561b7c8a-d423-4233-a266-2a708b81cbf9'},\n",
       "    'tiles': []},\n",
       "   {'resourceinstance': {'resourceinstanceid': '9fddb4e9-d206-428c-b460-b7210b42238c',\n",
       "     'graph_id': '8b2424cb-d34b-11eb-86da-fa163ee7ffac',\n",
       "     'legacyid': '9fddb4e9-d206-428c-b460-b7210b42238c'},\n",
       "    'tiles': []},\n",
       "   {'resourceinstance': {'resourceinstanceid': 'b9d744a9-a792-47a4-8725-fb3a20221f96',\n",
       "     'graph_id': '8b2424cb-d34b-11eb-86da-fa163ee7ffac',\n",
       "     'legacyid': 'b9d744a9-a792-47a4-8725-fb3a20221f96'},\n",
       "    'tiles': []},\n",
       "   {'resourceinstance': {'resourceinstanceid': '78f07be2-ccf2-4b27-89af-7019d3803554',\n",
       "     'graph_id': '8b2424cb-d34b-11eb-86da-fa163ee7ffac',\n",
       "     'legacyid': '78f07be2-ccf2-4b27-89af-7019d3803554'},\n",
       "    'tiles': []},\n",
       "   {'resourceinstance': {'resourceinstanceid': '072f30b5-7db5-45f2-842a-80f154310ee0',\n",
       "     'graph_id': '8b2424cb-d34b-11eb-86da-fa163ee7ffac',\n",
       "     'legacyid': '072f30b5-7db5-45f2-842a-80f154310ee0'},\n",
       "    'tiles': []},\n",
       "   {'resourceinstance': {'resourceinstanceid': '3456f939-60aa-49b2-ae0e-d0eb4e93e4ee',\n",
       "     'graph_id': '8b2424cb-d34b-11eb-86da-fa163ee7ffac',\n",
       "     'legacyid': '3456f939-60aa-49b2-ae0e-d0eb4e93e4ee'},\n",
       "    'tiles': []}]}}"
      ]
     },
     "execution_count": 6,
     "metadata": {},
     "output_type": "execute_result"
    }
   ],
   "source": [
    "items = []\n",
    "for i in range(10):\n",
    "    items.append(create_res(config['Basic']['GRAPH_ID']))\n",
    "create_json(items)"
   ]
  },
  {
   "cell_type": "code",
   "execution_count": 29,
   "id": "5d0b0d2c-0554-4fff-84e2-1fdc151c243e",
   "metadata": {},
   "outputs": [],
   "source": [
    "json_data = json.loads(json.dumps(create_json(items),indent = 4))"
   ]
  },
  {
   "cell_type": "code",
   "execution_count": 30,
   "id": "fd2cd96c-51f5-4706-b817-e5ada7cd9850",
   "metadata": {},
   "outputs": [
    {
     "data": {
      "text/plain": [
       "{'business_data': {'resources': [{'resourceinstance': {'resourceinstanceid': '6e74c004-0700-4225-88cc-6849f6f9545b',\n",
       "     'graph_id': '8b2424cb-d34b-11eb-86da-fa163ee7ffac',\n",
       "     'legacyid': '6e74c004-0700-4225-88cc-6849f6f9545b'},\n",
       "    'tiles': []},\n",
       "   {'resourceinstance': {'resourceinstanceid': '98889f3f-5d76-409b-b016-17a1ea4a0fad',\n",
       "     'graph_id': '8b2424cb-d34b-11eb-86da-fa163ee7ffac',\n",
       "     'legacyid': '98889f3f-5d76-409b-b016-17a1ea4a0fad'},\n",
       "    'tiles': []},\n",
       "   {'resourceinstance': {'resourceinstanceid': '5696b279-be4d-4734-9404-bc3f0eb48d32',\n",
       "     'graph_id': '8b2424cb-d34b-11eb-86da-fa163ee7ffac',\n",
       "     'legacyid': '5696b279-be4d-4734-9404-bc3f0eb48d32'},\n",
       "    'tiles': []},\n",
       "   {'resourceinstance': {'resourceinstanceid': 'fda316e8-d9b6-40f4-90b8-6caba04c70bb',\n",
       "     'graph_id': '8b2424cb-d34b-11eb-86da-fa163ee7ffac',\n",
       "     'legacyid': 'fda316e8-d9b6-40f4-90b8-6caba04c70bb'},\n",
       "    'tiles': []},\n",
       "   {'resourceinstance': {'resourceinstanceid': '561b7c8a-d423-4233-a266-2a708b81cbf9',\n",
       "     'graph_id': '8b2424cb-d34b-11eb-86da-fa163ee7ffac',\n",
       "     'legacyid': '561b7c8a-d423-4233-a266-2a708b81cbf9'},\n",
       "    'tiles': []},\n",
       "   {'resourceinstance': {'resourceinstanceid': '9fddb4e9-d206-428c-b460-b7210b42238c',\n",
       "     'graph_id': '8b2424cb-d34b-11eb-86da-fa163ee7ffac',\n",
       "     'legacyid': '9fddb4e9-d206-428c-b460-b7210b42238c'},\n",
       "    'tiles': []},\n",
       "   {'resourceinstance': {'resourceinstanceid': 'b9d744a9-a792-47a4-8725-fb3a20221f96',\n",
       "     'graph_id': '8b2424cb-d34b-11eb-86da-fa163ee7ffac',\n",
       "     'legacyid': 'b9d744a9-a792-47a4-8725-fb3a20221f96'},\n",
       "    'tiles': []},\n",
       "   {'resourceinstance': {'resourceinstanceid': '78f07be2-ccf2-4b27-89af-7019d3803554',\n",
       "     'graph_id': '8b2424cb-d34b-11eb-86da-fa163ee7ffac',\n",
       "     'legacyid': '78f07be2-ccf2-4b27-89af-7019d3803554'},\n",
       "    'tiles': []},\n",
       "   {'resourceinstance': {'resourceinstanceid': '072f30b5-7db5-45f2-842a-80f154310ee0',\n",
       "     'graph_id': '8b2424cb-d34b-11eb-86da-fa163ee7ffac',\n",
       "     'legacyid': '072f30b5-7db5-45f2-842a-80f154310ee0'},\n",
       "    'tiles': []},\n",
       "   {'resourceinstance': {'resourceinstanceid': '3456f939-60aa-49b2-ae0e-d0eb4e93e4ee',\n",
       "     'graph_id': '8b2424cb-d34b-11eb-86da-fa163ee7ffac',\n",
       "     'legacyid': '3456f939-60aa-49b2-ae0e-d0eb4e93e4ee'},\n",
       "    'tiles': []}]}}"
      ]
     },
     "execution_count": 30,
     "metadata": {},
     "output_type": "execute_result"
    }
   ],
   "source": [
    "json_data"
   ]
  },
  {
   "cell_type": "code",
   "execution_count": null,
   "id": "6368142b-0196-4769-ba81-40e670706cff",
   "metadata": {},
   "outputs": [],
   "source": [
    "with open('data.txt', 'w') as outfile:\n",
    "    json.dump(data, outfile)"
   ]
  }
 ],
 "metadata": {
  "kernelspec": {
   "display_name": "Python 3",
   "language": "python",
   "name": "python3"
  },
  "language_info": {
   "codemirror_mode": {
    "name": "ipython",
    "version": 3
   },
   "file_extension": ".py",
   "mimetype": "text/x-python",
   "name": "python",
   "nbconvert_exporter": "python",
   "pygments_lexer": "ipython3",
   "version": "3.8.5"
  }
 },
 "nbformat": 4,
 "nbformat_minor": 5
}
