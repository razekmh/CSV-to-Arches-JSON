{
 "cells": [
  {
   "cell_type": "code",
   "execution_count": 1,
   "id": "c176cc49-1609-4ef2-b57e-df13cbd79333",
   "metadata": {},
   "outputs": [],
   "source": [
    "import json\n",
    "import yaml\n",
    "import uuid\n",
    "import csv"
   ]
  },
  {
   "cell_type": "code",
   "execution_count": 45,
   "id": "c887ee41-9347-4acd-8720-f5bfeee7c460",
   "metadata": {},
   "outputs": [],
   "source": [
    "# TODO\n",
    "# read the RM JSON\n",
    "# extract the nodes att\n",
    "# group nodes to groups\n",
    "# Create the JSON object\n",
    "# Read the csv\n",
    "# for each new resource create JSON resource\n",
    "# create tile for each group\n",
    "# check for parent tiles and create them\n"
   ]
  },
  {
   "cell_type": "code",
   "execution_count": 46,
   "id": "6f9c30b1-1cc3-4002-9eb5-a3e36cc1352a",
   "metadata": {},
   "outputs": [],
   "source": [
    "# read json form resource model\n",
    "# extract the nodegroups and get the nodegroupids and the parentids\n",
    "# extrart nodeid, groupid and name of each node\n",
    "# find columns of data and match them with names of nodes\n",
    "# check if any data node needs a parent (create a parent list)\n",
    "# multiple attributes?"
   ]
  },
  {
   "cell_type": "code",
   "execution_count": 47,
   "id": "275c88d5-22da-44df-973e-4c24f66262cf",
   "metadata": {},
   "outputs": [],
   "source": [
    "# read json from resource model\n",
    "with open('Activity Resource Model.json', 'r') as file_rm:\n",
    "    rm_json = json.load(file_rm)"
   ]
  },
  {
   "cell_type": "code",
   "execution_count": 48,
   "id": "1ccb17f5-e206-4c82-b957-03c622fa93de",
   "metadata": {},
   "outputs": [],
   "source": [
    "# copy nodegroup object\n",
    "nodegroup_list = rm_json['graph'][0]['nodegroups']"
   ]
  },
  {
   "cell_type": "code",
   "execution_count": 49,
   "id": "211fc759-15ee-4eaf-b25f-bdc57dbe5fca",
   "metadata": {},
   "outputs": [
    {
     "name": "stdout",
     "output_type": "stream",
     "text": [
      "f74db658-e741-11e6-84a6-026d961c88e6\n",
      "f74db658-e741-11e6-84a6-026d961c88e6\n",
      "f74db658-e741-11e6-84a6-026d961c88e6\n",
      "f74db658-e741-11e6-84a6-026d961c88e6\n",
      "85c6a1be-e741-11e6-84a6-026d961c88e6\n",
      "f74db658-e741-11e6-84a6-026d961c88e6\n"
     ]
    }
   ],
   "source": [
    "for i in nodegroup_list: \n",
    "    if i['parentnodegroup_id']:\n",
    "        print (i['parentnodegroup_id'])"
   ]
  },
  {
   "cell_type": "code",
   "execution_count": 50,
   "id": "d3c48783-8a0c-4fa6-8318-287b052b03f3",
   "metadata": {},
   "outputs": [],
   "source": [
    "# get global parameters\n",
    "graphid = rm_json['graph'][0]['cards'][0]['graph_id']"
   ]
  },
  {
   "cell_type": "code",
   "execution_count": 51,
   "id": "7bec9c29-ee7e-4700-abb0-c78a97cf5572",
   "metadata": {},
   "outputs": [
    {
     "data": {
      "text/plain": [
       "{'nodeid': '0cbaba67-e742-11e6-84a6-026d961c88e6',\n",
       " 'nodegroup_id': '0cbaba63-e742-11e6-84a6-026d961c88e6',\n",
       " 'name': 'Beginning of Existence Time Span'}"
      ]
     },
     "execution_count": 51,
     "metadata": {},
     "output_type": "execute_result"
    }
   ],
   "source": [
    "# get node attributes\n",
    "node_list = []\n",
    "for node in rm_json['graph'][0]['nodes']:\n",
    "    node_list.append({\n",
    "        'nodeid' : node['nodeid'],\n",
    "        'nodegroup_id' : node['nodegroup_id'],\n",
    "        'name' : node['name'],\n",
    "    })\n",
    "node_list[0]"
   ]
  },
  {
   "cell_type": "code",
   "execution_count": 52,
   "id": "d37a0271-e346-4104-85ab-2bb0bddedee6",
   "metadata": {},
   "outputs": [
    {
     "data": {
      "text/plain": [
       "{'0cbaba63-e742-11e6-84a6-026d961c88e6': [{'nodeid': '0cbaba67-e742-11e6-84a6-026d961c88e6',\n",
       "   'nodegroup_id': '0cbaba63-e742-11e6-84a6-026d961c88e6',\n",
       "   'name': 'Beginning of Existence Time Span'},\n",
       "  {'nodeid': '0cbaba69-e742-11e6-84a6-026d961c88e6',\n",
       "   'nodegroup_id': '0cbaba63-e742-11e6-84a6-026d961c88e6',\n",
       "   'name': 'Start Date of Existence'},\n",
       "  {'nodeid': '0cbaba6b-e742-11e6-84a6-026d961c88e6',\n",
       "   'nodegroup_id': '0cbaba63-e742-11e6-84a6-026d961c88e6',\n",
       "   'name': 'End of Existence'},\n",
       "  {'nodeid': '0cbaba6a-e742-11e6-84a6-026d961c88e6',\n",
       "   'nodegroup_id': '0cbaba63-e742-11e6-84a6-026d961c88e6',\n",
       "   'name': 'Start Date Type'},\n",
       "  {'nodeid': '0cbaba6c-e742-11e6-84a6-026d961c88e6',\n",
       "   'nodegroup_id': '0cbaba63-e742-11e6-84a6-026d961c88e6',\n",
       "   'name': 'Beginning of Existence'},\n",
       "  {'nodeid': '0cbaba6d-e742-11e6-84a6-026d961c88e6',\n",
       "   'nodegroup_id': '0cbaba63-e742-11e6-84a6-026d961c88e6',\n",
       "   'name': 'End Date Type'},\n",
       "  {'nodeid': '0cbaba68-e742-11e6-84a6-026d961c88e6',\n",
       "   'nodegroup_id': '0cbaba63-e742-11e6-84a6-026d961c88e6',\n",
       "   'name': 'End of Existence Time Span'},\n",
       "  {'nodeid': '0cbaba63-e742-11e6-84a6-026d961c88e6',\n",
       "   'nodegroup_id': '0cbaba63-e742-11e6-84a6-026d961c88e6',\n",
       "   'name': 'Existence Event'},\n",
       "  {'nodeid': '0cbaba66-e742-11e6-84a6-026d961c88e6',\n",
       "   'nodegroup_id': '0cbaba63-e742-11e6-84a6-026d961c88e6',\n",
       "   'name': 'End Date of Existence'}],\n",
       " 'f74db649-e741-11e6-84a6-026d961c88e6': [{'nodeid': 'f74db649-e741-11e6-84a6-026d961c88e6',\n",
       "   'nodegroup_id': 'f74db649-e741-11e6-84a6-026d961c88e6',\n",
       "   'name': 'Place Address'},\n",
       "  {'nodeid': 'f74db65b-e741-11e6-84a6-026d961c88e6',\n",
       "   'nodegroup_id': 'f74db649-e741-11e6-84a6-026d961c88e6',\n",
       "   'name': 'Address Type'}],\n",
       " 'f74db652-e741-11e6-84a6-026d961c88e6': [{'nodeid': 'f74db652-e741-11e6-84a6-026d961c88e6',\n",
       "   'nodegroup_id': 'f74db652-e741-11e6-84a6-026d961c88e6',\n",
       "   'name': 'Cadastral Reference'}],\n",
       " 'ab7463df-e741-11e6-84a6-026d961c88e6': [{'nodeid': 'ab7463e3-e741-11e6-84a6-026d961c88e6',\n",
       "   'nodegroup_id': 'ab7463df-e741-11e6-84a6-026d961c88e6',\n",
       "   'name': 'Description Type'},\n",
       "  {'nodeid': 'ab7463df-e741-11e6-84a6-026d961c88e6',\n",
       "   'nodegroup_id': 'ab7463df-e741-11e6-84a6-026d961c88e6',\n",
       "   'name': 'Description Assignment'},\n",
       "  {'nodeid': 'ab7463e2-e741-11e6-84a6-026d961c88e6',\n",
       "   'nodegroup_id': 'ab7463df-e741-11e6-84a6-026d961c88e6',\n",
       "   'name': 'Description / وصف'}],\n",
       " 'b9e90911-e741-11e6-84a6-026d961c88e6': [{'nodeid': 'b9e90914-e741-11e6-84a6-026d961c88e6',\n",
       "   'nodegroup_id': 'b9e90911-e741-11e6-84a6-026d961c88e6',\n",
       "   'name': 'Name Type'},\n",
       "  {'nodeid': 'b9e90911-e741-11e6-84a6-026d961c88e6',\n",
       "   'nodegroup_id': 'b9e90911-e741-11e6-84a6-026d961c88e6',\n",
       "   'name': 'Name'}],\n",
       " '2b6dd397-e741-11e6-84a6-026d961c88e6': [{'nodeid': '2b6dd397-e741-11e6-84a6-026d961c88e6',\n",
       "   'nodegroup_id': '2b6dd397-e741-11e6-84a6-026d961c88e6',\n",
       "   'name': 'Keyword'}],\n",
       " None: [{'nodeid': '243f8688-b8f6-11e6-84a5-026d961c88e6',\n",
       "   'nodegroup_id': None,\n",
       "   'name': 'Activity'}],\n",
       " '61f1a1b9-e741-11e6-84a6-026d961c88e6': [{'nodeid': '61f1a1bc-e741-11e6-84a6-026d961c88e6',\n",
       "   'nodegroup_id': '61f1a1b9-e741-11e6-84a6-026d961c88e6',\n",
       "   'name': 'External Identifier Type'},\n",
       "  {'nodeid': '61f1a1b9-e741-11e6-84a6-026d961c88e6',\n",
       "   'nodegroup_id': '61f1a1b9-e741-11e6-84a6-026d961c88e6',\n",
       "   'name': 'External XRef'},\n",
       "  {'nodeid': '61f1a1bd-e741-11e6-84a6-026d961c88e6',\n",
       "   'nodegroup_id': '61f1a1b9-e741-11e6-84a6-026d961c88e6',\n",
       "   'name': 'External Source'}],\n",
       " 'f74db658-e741-11e6-84a6-026d961c88e6': [{'nodeid': 'f74db658-e741-11e6-84a6-026d961c88e6',\n",
       "   'nodegroup_id': 'f74db658-e741-11e6-84a6-026d961c88e6',\n",
       "   'name': 'Place'}],\n",
       " '85c6a1bb-e741-11e6-84a6-026d961c88e6': [{'nodeid': '85c6a1c2-e741-11e6-84a6-026d961c88e6',\n",
       "   'nodegroup_id': '85c6a1bb-e741-11e6-84a6-026d961c88e6',\n",
       "   'name': 'Time Span Phase'},\n",
       "  {'nodeid': '85c6a1bb-e741-11e6-84a6-026d961c88e6',\n",
       "   'nodegroup_id': '85c6a1bb-e741-11e6-84a6-026d961c88e6',\n",
       "   'name': 'Phase Type Assignment'},\n",
       "  {'nodeid': '85c6a1c4-e741-11e6-84a6-026d961c88e6',\n",
       "   'nodegroup_id': '85c6a1bb-e741-11e6-84a6-026d961c88e6',\n",
       "   'name': 'Activity Type'},\n",
       "  {'nodeid': '85c6a1c1-e741-11e6-84a6-026d961c88e6',\n",
       "   'nodegroup_id': '85c6a1bb-e741-11e6-84a6-026d961c88e6',\n",
       "   'name': 'To Date'},\n",
       "  {'nodeid': '85c6a1c3-e741-11e6-84a6-026d961c88e6',\n",
       "   'nodegroup_id': '85c6a1bb-e741-11e6-84a6-026d961c88e6',\n",
       "   'name': 'From Date'}],\n",
       " 'f74db655-e741-11e6-84a6-026d961c88e6': [{'nodeid': 'f74db655-e741-11e6-84a6-026d961c88e6',\n",
       "   'nodegroup_id': 'f74db655-e741-11e6-84a6-026d961c88e6',\n",
       "   'name': 'Administration Subdivision'},\n",
       "  {'nodeid': 'f74db65c-e741-11e6-84a6-026d961c88e6',\n",
       "   'nodegroup_id': 'f74db655-e741-11e6-84a6-026d961c88e6',\n",
       "   'name': 'Administrative Subdivision Name'},\n",
       "  {'nodeid': 'f74db65d-e741-11e6-84a6-026d961c88e6',\n",
       "   'nodegroup_id': 'f74db655-e741-11e6-84a6-026d961c88e6',\n",
       "   'name': 'Administrative Subdivision Type'}],\n",
       " 'f74db64f-e741-11e6-84a6-026d961c88e6': [{'nodeid': 'f74db64f-e741-11e6-84a6-026d961c88e6',\n",
       "   'nodegroup_id': 'f74db64f-e741-11e6-84a6-026d961c88e6',\n",
       "   'name': 'Spatial Coordinates Geometry'},\n",
       "  {'nodeid': 'f74db65f-e741-11e6-84a6-026d961c88e6',\n",
       "   'nodegroup_id': 'f74db64f-e741-11e6-84a6-026d961c88e6',\n",
       "   'name': 'Geometry Qualifier'}],\n",
       " '85c6a1be-e741-11e6-84a6-026d961c88e6': [{'nodeid': '85c6a1be-e741-11e6-84a6-026d961c88e6',\n",
       "   'nodegroup_id': '85c6a1be-e741-11e6-84a6-026d961c88e6',\n",
       "   'name': 'Activity Phase'}],\n",
       " 'f74db64c-e741-11e6-84a6-026d961c88e6': [{'nodeid': 'f74db64c-e741-11e6-84a6-026d961c88e6',\n",
       "   'nodegroup_id': 'f74db64c-e741-11e6-84a6-026d961c88e6',\n",
       "   'name': 'Place Description Assignment'},\n",
       "  {'nodeid': 'f74db65e-e741-11e6-84a6-026d961c88e6',\n",
       "   'nodegroup_id': 'f74db64c-e741-11e6-84a6-026d961c88e6',\n",
       "   'name': 'Place Description'}]}"
      ]
     },
     "execution_count": 52,
     "metadata": {},
     "output_type": "execute_result"
    }
   ],
   "source": [
    "# gruop nodes based on the nodegroup_id\n",
    "grouped_nodes = {}\n",
    "for node in node_list:\n",
    "        nodegroup_id = node[\"nodegroup_id\"]\n",
    "        if nodegroup_id in grouped_nodes:\n",
    "                grouped_nodes[nodegroup_id].append(node)\n",
    "        else:\n",
    "                grouped_nodes[nodegroup_id] = [node]\n",
    "grouped_nodes"
   ]
  },
  {
   "cell_type": "code",
   "execution_count": 53,
   "id": "d241f6cc-9f29-48e4-b693-43eaf639348f",
   "metadata": {},
   "outputs": [
    {
     "name": "stdout",
     "output_type": "stream",
     "text": [
      "{'nodeid': '0cbaba67-e742-11e6-84a6-026d961c88e6', 'nodegroup_id': '0cbaba63-e742-11e6-84a6-026d961c88e6', 'name': 'Beginning of Existence Time Span'}\n"
     ]
    }
   ],
   "source": [
    "for item in grouped_nodes.items():\n",
    "#     print(key, \"\\n\\n\\n\", value)\n",
    "    print(item[1][0])\n",
    "    break"
   ]
  },
  {
   "cell_type": "code",
   "execution_count": 54,
   "id": "b61540d5-99ac-4236-be2b-3aa9b140338a",
   "metadata": {},
   "outputs": [
    {
     "data": {
      "text/plain": [
       "{'Start Date of Existence': '2021-07-22',\n",
       " 'Start Date Type': 'Built Date',\n",
       " 'Cadastral Reference': 'Cadastral Reference',\n",
       " 'Description Type': '',\n",
       " 'Name Type': 'California Historic Landmark',\n",
       " 'External Identifier Type': 'DOI',\n",
       " 'End Date Type': 'Demolition Date',\n",
       " 'Administrative Subdivision Name': 'Administrative Subdivision Name',\n",
       " 'Administrative Subdivision Type': '',\n",
       " 'Activity Type': 'building permit',\n",
       " 'Name': 'Name',\n",
       " 'Geometry Qualifier': '',\n",
       " 'To Date': '2021-07-08',\n",
       " 'Address Type': '',\n",
       " 'From Date': '2021-07-29',\n",
       " 'Place Description': 'Place Description',\n",
       " 'End Date of Existence': '2021-07-13',\n",
       " 'Description': 'Description',\n",
       " 'Keyword': '1820s',\n",
       " 'External Source': '',\n",
       " 'resourceid': 'dd9f5852-2375-4852-8a75-401fdd27129a'}"
      ]
     },
     "execution_count": 54,
     "metadata": {},
     "output_type": "execute_result"
    }
   ],
   "source": [
    "# open data file\n",
    "with open(\"Activity Resource Model_data.csv\") as file_act_data:\n",
    "    act_data = csv.DictReader(file_act_data)\n",
    "    for row in act_data:\n",
    "        global data_dict\n",
    "        data_dict = row\n",
    "data_dict"
   ]
  },
  {
   "cell_type": "code",
   "execution_count": 55,
   "id": "1800b806-c070-4687-9e51-e672ae9ff355",
   "metadata": {},
   "outputs": [
    {
     "name": "stdout",
     "output_type": "stream",
     "text": [
      "f74db658-e741-11e6-84a6-026d961c88e6\n",
      "f74db658-e741-11e6-84a6-026d961c88e6\n",
      "85c6a1be-e741-11e6-84a6-026d961c88e6\n",
      "f74db658-e741-11e6-84a6-026d961c88e6\n",
      "85c6a1be-e741-11e6-84a6-026d961c88e6\n",
      "f74db658-e741-11e6-84a6-026d961c88e6\n",
      "f74db658-e741-11e6-84a6-026d961c88e6\n",
      "f74db658-e741-11e6-84a6-026d961c88e6\n",
      "85c6a1be-e741-11e6-84a6-026d961c88e6\n",
      "f74db658-e741-11e6-84a6-026d961c88e6\n",
      "f74db658-e741-11e6-84a6-026d961c88e6\n",
      "85c6a1be-e741-11e6-84a6-026d961c88e6\n",
      "f74db658-e741-11e6-84a6-026d961c88e6\n",
      "85c6a1be-e741-11e6-84a6-026d961c88e6\n",
      "f74db658-e741-11e6-84a6-026d961c88e6\n"
     ]
    }
   ],
   "source": [
    "# check if node has a perant\n",
    "for node in node_list:\n",
    "    for nodegroup in nodegroup_list:\n",
    "        if node['nodegroup_id'] == nodegroup['nodegroupid'] and nodegroup['parentnodegroup_id']:\n",
    "            print (nodegroup['parentnodegroup_id'])"
   ]
  },
  {
   "cell_type": "code",
   "execution_count": 56,
   "id": "4fff38a5-425f-4df2-8980-892bf0798546",
   "metadata": {},
   "outputs": [
    {
     "data": {
      "text/plain": [
       "{'cardinality': 'n',\n",
       " 'legacygroupid': None,\n",
       " 'nodegroupid': 'ab7463df-e741-11e6-84a6-026d961c88e6',\n",
       " 'parentnodegroup_id': None}"
      ]
     },
     "execution_count": 56,
     "metadata": {},
     "output_type": "execute_result"
    }
   ],
   "source": [
    "nodegroup_list[0]"
   ]
  },
  {
   "cell_type": "code",
   "execution_count": 57,
   "id": "34d74cc1-db1d-4758-ac62-5d4d3f9eed37",
   "metadata": {},
   "outputs": [
    {
     "ename": "SyntaxError",
     "evalue": "invalid syntax (<ipython-input-57-ec8a795fe423>, line 6)",
     "output_type": "error",
     "traceback": [
      "\u001b[1;36m  File \u001b[1;32m\"<ipython-input-57-ec8a795fe423>\"\u001b[1;36m, line \u001b[1;32m6\u001b[0m\n\u001b[1;33m    if node['']\u001b[0m\n\u001b[1;37m               ^\u001b[0m\n\u001b[1;31mSyntaxError\u001b[0m\u001b[1;31m:\u001b[0m invalid syntax\n"
     ]
    }
   ],
   "source": [
    "# compare data with node keys\n",
    "for node in node_list:\n",
    "    for key in data_dict.keys():\n",
    "        if node['name'] == key:\n",
    "            print (node['name'], node['nodeid'], key)\n",
    "            if node['']"
   ]
  },
  {
   "cell_type": "code",
   "execution_count": 58,
   "id": "42af88af-35f7-4e72-aafd-1434d1696711",
   "metadata": {},
   "outputs": [],
   "source": [
    "with open(\"local_settings.yml\", \"r\") as yamlfile:\n",
    "    config = yaml.load(yamlfile, Loader=yaml.FullLoader)"
   ]
  },
  {
   "cell_type": "code",
   "execution_count": 59,
   "id": "36178aab-abdd-40e7-b5d3-795a31a5b65b",
   "metadata": {},
   "outputs": [
    {
     "data": {
      "text/plain": [
       "dict_keys(['UUID', 'Date', 'Start Dating method', 'Start Archeological Period'])"
      ]
     },
     "execution_count": 59,
     "metadata": {},
     "output_type": "execute_result"
    }
   ],
   "source": [
    "list(config['Basic']['GRAPH']['cards'].items())[1][1].keys()"
   ]
  },
  {
   "cell_type": "code",
   "execution_count": 60,
   "id": "36e38709-397a-4397-92a2-ffdda9fde673",
   "metadata": {},
   "outputs": [
    {
     "data": {
      "text/plain": [
       "dict_keys(['Recorder', 'Start Date'])"
      ]
     },
     "execution_count": 60,
     "metadata": {},
     "output_type": "execute_result"
    }
   ],
   "source": [
    "config['Basic']['GRAPH']['cards'].keys()"
   ]
  },
  {
   "cell_type": "code",
   "execution_count": 61,
   "id": "7891faa6-5736-4242-a5b8-ee4bf1170860",
   "metadata": {},
   "outputs": [],
   "source": [
    "csv_row = {\n",
    "    \"Recorder\"   : \"person\",\n",
    "    \"Start Date\" : \"10/10/10\",\n",
    "    \"Date\"       : \"Date_data\",\n",
    "    \"Start Dating method\" : \"Data Start Dating method\",\n",
    "    \"Start Archeological Period\" : \"DATA Start Archeological Period\"\n",
    "}"
   ]
  },
  {
   "cell_type": "code",
   "execution_count": 62,
   "id": "4dd9adab-b41a-4efc-b9d0-1776d8accb3f",
   "metadata": {},
   "outputs": [],
   "source": [
    "def parse_config(config):\n",
    "    graphid = config['Basic']['GRAPH']['UUID']\n",
    "    cards = list(config['Basic']['GRAPH']['cards'].items())\n",
    "    return graphid, cards"
   ]
  },
  {
   "cell_type": "code",
   "execution_count": 63,
   "id": "d16dbbea-bb8b-4fd5-9743-261e3468f390",
   "metadata": {},
   "outputs": [],
   "source": [
    "def create_json(resources):\n",
    "    \n",
    "    json_data = {}\n",
    "    resources_list = {'resources' : resources}\n",
    "    json_data['business_data'] = resources_list\n",
    "    return json_data"
   ]
  },
  {
   "cell_type": "code",
   "execution_count": 74,
   "id": "d066da2f-180e-463d-a3e8-71855a9f57b5",
   "metadata": {},
   "outputs": [],
   "source": [
    "def create_res(graphid, cards, legacy_id=''):\n",
    "    # create resource instance\n",
    "    id = legacy_id\n",
    "    if id == '':\n",
    "        id = str(uuid.uuid4())\n",
    "    res = {}\n",
    "    res['resourceinstance'] = {\n",
    "        \"resourceinstanceid\" : id, \"graph_id\" : str(graphid), \"legacyid\" : id}\n",
    "    tiles =[]\n",
    "    for card in cards:\n",
    "        tiles.extend(create_tile(card, id, card[1]['UUID']))\n",
    "    res['tiles'] = tiles\n",
    "    print(f\"HERE{res['tiles']}\")\n",
    "    return res"
   ]
  },
  {
   "cell_type": "code",
   "execution_count": 75,
   "id": "9d851675-42ef-4c73-a0fc-adffad706774",
   "metadata": {},
   "outputs": [],
   "source": [
    "def create_tile(card, resid, nodegroup_id, parent=None):\n",
    "    # create tile\n",
    "    tile = {}\n",
    "    tile['tileid'] = str(uuid.uuid4())\n",
    "    tile['resourceinstance_id'] = resid\n",
    "    tile['nodegroup_id'] = nodegroup_id\n",
    "    tile['sortorder'] = 0\n",
    "    tile['parenttile_id'] = None\n",
    "    tile['data'] = Build_data(card)\n",
    "    return [tile]"
   ]
  },
  {
   "cell_type": "code",
   "execution_count": 76,
   "id": "8fa82860-9217-4cf2-8f2e-d53dfcd0a986",
   "metadata": {},
   "outputs": [],
   "source": [
    "def Build_data(card):\n",
    "    data = {}\n",
    "    for key in [key for key in card[1].keys() if key != 'UUID']:\n",
    "        data[card[1][key]] = csv_row[key]\n",
    "    return data"
   ]
  },
  {
   "cell_type": "code",
   "execution_count": 77,
   "id": "d56224c3-30a2-4e8e-88cb-557593188edf",
   "metadata": {},
   "outputs": [],
   "source": [
    "def build_json():\n",
    "    graphid, cards = parse_config(config)\n",
    "    resources = create_res(graphid, cards)\n",
    "    \n",
    "    built = create_json(resources)\n",
    "    return built"
   ]
  },
  {
   "cell_type": "code",
   "execution_count": 78,
   "id": "0acb3d8a-9386-4c0d-952f-ca2cf17cc438",
   "metadata": {},
   "outputs": [
    {
     "name": "stdout",
     "output_type": "stream",
     "text": [
      "HERE[{'tileid': '79f4814d-fbd8-4762-aba6-cdbe1546e379', 'resourceinstance_id': 'a016bdec-3d8e-4b2d-8959-c3439bfd23b4', 'nodegroup_id': 'b702e13d-ea41-11eb-86da-fa163ee7ffac', 'sortorder': 0, 'parenttile_id': None, 'data': {'b702e13d-ea41-11eb-86da-fa163ee7ffac': 'person'}}, {'tileid': 'd398d307-43fa-4c0a-838e-d02cb5151966', 'resourceinstance_id': 'a016bdec-3d8e-4b2d-8959-c3439bfd23b4', 'nodegroup_id': 'b702e11f-ea41-11eb-86da-fa163ee7ffac', 'sortorder': 0, 'parenttile_id': None, 'data': {'b702e147-ea41-11eb-86da-fa163ee7ffac': 'Date_data', 'b702e148-ea41-11eb-86da-fa163ee7ffac': 'Data Start Dating method', 'b702e14d-ea41-11eb-86da-fa163ee7ffac': 'DATA Start Archeological Period'}}]\n"
     ]
    },
    {
     "data": {
      "text/plain": [
       "{'business_data': {'resources': {'resourceinstance': {'resourceinstanceid': 'a016bdec-3d8e-4b2d-8959-c3439bfd23b4',\n",
       "    'graph_id': 'b702e11e-ea41-11eb-86da-fa163ee7ffac',\n",
       "    'legacyid': 'a016bdec-3d8e-4b2d-8959-c3439bfd23b4'},\n",
       "   'tiles': [{'tileid': '79f4814d-fbd8-4762-aba6-cdbe1546e379',\n",
       "     'resourceinstance_id': 'a016bdec-3d8e-4b2d-8959-c3439bfd23b4',\n",
       "     'nodegroup_id': 'b702e13d-ea41-11eb-86da-fa163ee7ffac',\n",
       "     'sortorder': 0,\n",
       "     'parenttile_id': None,\n",
       "     'data': {'b702e13d-ea41-11eb-86da-fa163ee7ffac': 'person'}},\n",
       "    {'tileid': 'd398d307-43fa-4c0a-838e-d02cb5151966',\n",
       "     'resourceinstance_id': 'a016bdec-3d8e-4b2d-8959-c3439bfd23b4',\n",
       "     'nodegroup_id': 'b702e11f-ea41-11eb-86da-fa163ee7ffac',\n",
       "     'sortorder': 0,\n",
       "     'parenttile_id': None,\n",
       "     'data': {'b702e147-ea41-11eb-86da-fa163ee7ffac': 'Date_data',\n",
       "      'b702e148-ea41-11eb-86da-fa163ee7ffac': 'Data Start Dating method',\n",
       "      'b702e14d-ea41-11eb-86da-fa163ee7ffac': 'DATA Start Archeological Period'}}]}}}"
      ]
     },
     "execution_count": 78,
     "metadata": {},
     "output_type": "execute_result"
    }
   ],
   "source": [
    "build_json()"
   ]
  },
  {
   "cell_type": "code",
   "execution_count": 40,
   "id": "e6ebd0ab-7bf5-4d67-a8b8-f8cc87e6cc45",
   "metadata": {},
   "outputs": [
    {
     "ename": "TypeError",
     "evalue": "create_tile() missing 1 required positional argument: 'nodegroup_id'",
     "output_type": "error",
     "traceback": [
      "\u001b[1;31m---------------------------------------------------------------------------\u001b[0m",
      "\u001b[1;31mTypeError\u001b[0m                                 Traceback (most recent call last)",
      "\u001b[1;32m<ipython-input-40-2ece065d5424>\u001b[0m in \u001b[0;36m<module>\u001b[1;34m\u001b[0m\n\u001b[1;32m----> 1\u001b[1;33m \u001b[0mcreate_tile\u001b[0m\u001b[1;33m(\u001b[0m\u001b[1;36m10\u001b[0m\u001b[1;33m,\u001b[0m\u001b[1;36m20\u001b[0m\u001b[1;33m)\u001b[0m\u001b[1;33m\u001b[0m\u001b[1;33m\u001b[0m\u001b[0m\n\u001b[0m",
      "\u001b[1;31mTypeError\u001b[0m: create_tile() missing 1 required positional argument: 'nodegroup_id'"
     ]
    }
   ],
   "source": [
    "create_tile(10,20)"
   ]
  },
  {
   "cell_type": "code",
   "execution_count": 41,
   "id": "52d458bc-dcc2-4875-b598-94901337c104",
   "metadata": {},
   "outputs": [
    {
     "ename": "KeyError",
     "evalue": "'GRAPH_ID'",
     "output_type": "error",
     "traceback": [
      "\u001b[1;31m---------------------------------------------------------------------------\u001b[0m",
      "\u001b[1;31mKeyError\u001b[0m                                  Traceback (most recent call last)",
      "\u001b[1;32m<ipython-input-41-fb4c01323d3b>\u001b[0m in \u001b[0;36m<module>\u001b[1;34m\u001b[0m\n\u001b[0;32m      1\u001b[0m \u001b[0mitems\u001b[0m \u001b[1;33m=\u001b[0m \u001b[1;33m[\u001b[0m\u001b[1;33m]\u001b[0m\u001b[1;33m\u001b[0m\u001b[1;33m\u001b[0m\u001b[0m\n\u001b[0;32m      2\u001b[0m \u001b[1;32mfor\u001b[0m \u001b[0mi\u001b[0m \u001b[1;32min\u001b[0m \u001b[0mrange\u001b[0m\u001b[1;33m(\u001b[0m\u001b[1;36m10\u001b[0m\u001b[1;33m)\u001b[0m\u001b[1;33m:\u001b[0m\u001b[1;33m\u001b[0m\u001b[1;33m\u001b[0m\u001b[0m\n\u001b[1;32m----> 3\u001b[1;33m     \u001b[0mitems\u001b[0m\u001b[1;33m.\u001b[0m\u001b[0mappend\u001b[0m\u001b[1;33m(\u001b[0m\u001b[0mcreate_res\u001b[0m\u001b[1;33m(\u001b[0m\u001b[0mconfig\u001b[0m\u001b[1;33m[\u001b[0m\u001b[1;34m'Basic'\u001b[0m\u001b[1;33m]\u001b[0m\u001b[1;33m[\u001b[0m\u001b[1;34m'GRAPH_ID'\u001b[0m\u001b[1;33m]\u001b[0m\u001b[1;33m)\u001b[0m\u001b[1;33m)\u001b[0m\u001b[1;33m\u001b[0m\u001b[1;33m\u001b[0m\u001b[0m\n\u001b[0m\u001b[0;32m      4\u001b[0m \u001b[0mcreate_json\u001b[0m\u001b[1;33m(\u001b[0m\u001b[0mitems\u001b[0m\u001b[1;33m)\u001b[0m\u001b[1;33m\u001b[0m\u001b[1;33m\u001b[0m\u001b[0m\n",
      "\u001b[1;31mKeyError\u001b[0m: 'GRAPH_ID'"
     ]
    }
   ],
   "source": [
    "items = []\n",
    "for i in range(10):\n",
    "    items.append(create_res(config['Basic']['GRAPH_ID']))\n",
    "create_json(items)"
   ]
  },
  {
   "cell_type": "code",
   "execution_count": 42,
   "id": "5d0b0d2c-0554-4fff-84e2-1fdc151c243e",
   "metadata": {},
   "outputs": [],
   "source": [
    "json_data = json.loads(json.dumps(create_json(items),indent = 4))"
   ]
  },
  {
   "cell_type": "code",
   "execution_count": 43,
   "id": "fd2cd96c-51f5-4706-b817-e5ada7cd9850",
   "metadata": {},
   "outputs": [
    {
     "data": {
      "text/plain": [
       "{'business_data': {'resources': []}}"
      ]
     },
     "execution_count": 43,
     "metadata": {},
     "output_type": "execute_result"
    }
   ],
   "source": [
    "json_data"
   ]
  },
  {
   "cell_type": "code",
   "execution_count": 44,
   "id": "6368142b-0196-4769-ba81-40e670706cff",
   "metadata": {},
   "outputs": [
    {
     "ename": "NameError",
     "evalue": "name 'data' is not defined",
     "output_type": "error",
     "traceback": [
      "\u001b[1;31m---------------------------------------------------------------------------\u001b[0m",
      "\u001b[1;31mNameError\u001b[0m                                 Traceback (most recent call last)",
      "\u001b[1;32m<ipython-input-44-9efe07e6d07b>\u001b[0m in \u001b[0;36m<module>\u001b[1;34m\u001b[0m\n\u001b[0;32m      1\u001b[0m \u001b[1;32mwith\u001b[0m \u001b[0mopen\u001b[0m\u001b[1;33m(\u001b[0m\u001b[1;34m'data.txt'\u001b[0m\u001b[1;33m,\u001b[0m \u001b[1;34m'w'\u001b[0m\u001b[1;33m)\u001b[0m \u001b[1;32mas\u001b[0m \u001b[0moutfile\u001b[0m\u001b[1;33m:\u001b[0m\u001b[1;33m\u001b[0m\u001b[1;33m\u001b[0m\u001b[0m\n\u001b[1;32m----> 2\u001b[1;33m     \u001b[0mjson\u001b[0m\u001b[1;33m.\u001b[0m\u001b[0mdump\u001b[0m\u001b[1;33m(\u001b[0m\u001b[0mdata\u001b[0m\u001b[1;33m,\u001b[0m \u001b[0moutfile\u001b[0m\u001b[1;33m)\u001b[0m\u001b[1;33m\u001b[0m\u001b[1;33m\u001b[0m\u001b[0m\n\u001b[0m",
      "\u001b[1;31mNameError\u001b[0m: name 'data' is not defined"
     ]
    }
   ],
   "source": [
    "with open('data.txt', 'w') as outfile:\n",
    "    json.dump(data, outfile)"
   ]
  },
  {
   "cell_type": "code",
   "execution_count": 91,
   "id": "39d66060-d71c-4fa0-a86c-29832e73db16",
   "metadata": {},
   "outputs": [],
   "source": [
    "# exper\n",
    "card = ('0cbaba63-e742-11e6-84a6-026d961c88e6', [{'nodeid': '0cbaba67-e742-11e6-84a6-026d961c88e6', 'nodegroup_id': '0cbaba63-e742-11e6-84a6-026d961c88e6', 'name': 'Beginning of Existence Time Span'}, {'nodeid': '0cbaba69-e742-11e6-84a6-026d961c88e6', 'nodegroup_id': '0cbaba63-e742-11e6-84a6-026d961c88e6', 'name': 'Start Date of Existence'}, {'nodeid': '0cbaba6b-e742-11e6-84a6-026d961c88e6', 'nodegroup_id': '0cbaba63-e742-11e6-84a6-026d961c88e6', 'name': 'End of Existence'}, {'nodeid': '0cbaba6a-e742-11e6-84a6-026d961c88e6', 'nodegroup_id': '0cbaba63-e742-11e6-84a6-026d961c88e6', 'name': 'Start Date Type'}, {'nodeid': '0cbaba6c-e742-11e6-84a6-026d961c88e6', 'nodegroup_id': '0cbaba63-e742-11e6-84a6-026d961c88e6', 'name': 'Beginning of Existence'}, {'nodeid': '0cbaba6d-e742-11e6-84a6-026d961c88e6', 'nodegroup_id': '0cbaba63-e742-11e6-84a6-026d961c88e6', 'name': 'End Date Type'}, {'nodeid': '0cbaba68-e742-11e6-84a6-026d961c88e6', 'nodegroup_id': '0cbaba63-e742-11e6-84a6-026d961c88e6', 'name': 'End of Existence Time Span'}, {'nodeid': '0cbaba63-e742-11e6-84a6-026d961c88e6', 'nodegroup_id': '0cbaba63-e742-11e6-84a6-026d961c88e6', 'name': 'Existence Event'}, {'nodeid': '0cbaba66-e742-11e6-84a6-026d961c88e6', 'nodegroup_id': '0cbaba63-e742-11e6-84a6-026d961c88e6', 'name': 'End Date of Existence'}])\n",
    "data_dict = {'Start Date of Existence': '2021-07-22', 'Start Date Type': 'Built Date', 'Cadastral Reference': 'Cadastral Reference', 'Description Type': '', 'Name Type': 'California Historic Landmark', 'External Identifier Type': 'DOI', 'End Date Type': 'Demolition Date', 'Administrative Subdivision Name': 'Administrative Subdivision Name', 'Administrative Subdivision Type': '', 'Activity Type': 'building permit', 'Name': 'Name', 'Geometry Qualifier': '', 'To Date': '2021-07-08', 'Address Type': '', 'From Date': '2021-07-29', 'Place Description': 'Place Description', 'End Date of Existence': '2021-07-13', 'Description':'Description', 'Keyword': '1820s', 'External Source': '', 'resourceid': 'dd9f5852-2375-4852-8a75-401fdd27129a'}"
   ]
  },
  {
   "cell_type": "code",
   "execution_count": 92,
   "id": "47cac7ae-69eb-4b63-8f13-a968152a82c7",
   "metadata": {},
   "outputs": [
    {
     "data": {
      "text/plain": [
       "'Beginning of Existence Time Span'"
      ]
     },
     "execution_count": 92,
     "metadata": {},
     "output_type": "execute_result"
    }
   ],
   "source": [
    "card[1][0]['name'] "
   ]
  },
  {
   "cell_type": "code",
   "execution_count": 93,
   "id": "19791988-6f95-4c60-ba7c-94cdeb5d81cf",
   "metadata": {},
   "outputs": [
    {
     "name": "stdout",
     "output_type": "stream",
     "text": [
      "{'nodeid': '0cbaba67-e742-11e6-84a6-026d961c88e6', 'nodegroup_id': '0cbaba63-e742-11e6-84a6-026d961c88e6', 'name': 'Beginning of Existence Time Span'}\n",
      "{'nodeid': '0cbaba69-e742-11e6-84a6-026d961c88e6', 'nodegroup_id': '0cbaba63-e742-11e6-84a6-026d961c88e6', 'name': 'Start Date of Existence'}\n",
      "{'nodeid': '0cbaba6b-e742-11e6-84a6-026d961c88e6', 'nodegroup_id': '0cbaba63-e742-11e6-84a6-026d961c88e6', 'name': 'End of Existence'}\n",
      "{'nodeid': '0cbaba6a-e742-11e6-84a6-026d961c88e6', 'nodegroup_id': '0cbaba63-e742-11e6-84a6-026d961c88e6', 'name': 'Start Date Type'}\n",
      "{'nodeid': '0cbaba6c-e742-11e6-84a6-026d961c88e6', 'nodegroup_id': '0cbaba63-e742-11e6-84a6-026d961c88e6', 'name': 'Beginning of Existence'}\n",
      "{'nodeid': '0cbaba6d-e742-11e6-84a6-026d961c88e6', 'nodegroup_id': '0cbaba63-e742-11e6-84a6-026d961c88e6', 'name': 'End Date Type'}\n",
      "{'nodeid': '0cbaba68-e742-11e6-84a6-026d961c88e6', 'nodegroup_id': '0cbaba63-e742-11e6-84a6-026d961c88e6', 'name': 'End of Existence Time Span'}\n",
      "{'nodeid': '0cbaba63-e742-11e6-84a6-026d961c88e6', 'nodegroup_id': '0cbaba63-e742-11e6-84a6-026d961c88e6', 'name': 'Existence Event'}\n",
      "{'nodeid': '0cbaba66-e742-11e6-84a6-026d961c88e6', 'nodegroup_id': '0cbaba63-e742-11e6-84a6-026d961c88e6', 'name': 'End Date of Existence'}\n"
     ]
    }
   ],
   "source": [
    "card_data = card[1]\n",
    "for value in card_data:\n",
    "    print(value)"
   ]
  },
  {
   "cell_type": "code",
   "execution_count": 95,
   "id": "f088476b-ad09-483a-ac93-fea4e2c5fe08",
   "metadata": {},
   "outputs": [
    {
     "data": {
      "text/plain": [
       "{'0cbaba69-e742-11e6-84a6-026d961c88e6': '2021-07-22',\n",
       " '0cbaba6a-e742-11e6-84a6-026d961c88e6': 'Built Date',\n",
       " '0cbaba6d-e742-11e6-84a6-026d961c88e6': 'Demolition Date',\n",
       " '0cbaba66-e742-11e6-84a6-026d961c88e6': '2021-07-13'}"
      ]
     },
     "execution_count": 95,
     "metadata": {},
     "output_type": "execute_result"
    }
   ],
   "source": [
    "data = {}\n",
    "card_data = card[1]\n",
    "for value in card_data:\n",
    "    if value['name'] in data_dict.keys():\n",
    "        data[value['nodeid']] = data_dict[value['name']]\n",
    "data"
   ]
  },
  {
   "cell_type": "code",
   "execution_count": null,
   "id": "bc362fe1-c198-4c99-8476-be62b6c5f570",
   "metadata": {},
   "outputs": [],
   "source": []
  }
 ],
 "metadata": {
  "kernelspec": {
   "display_name": "Python 3",
   "language": "python",
   "name": "python3"
  },
  "language_info": {
   "codemirror_mode": {
    "name": "ipython",
    "version": 3
   },
   "file_extension": ".py",
   "mimetype": "text/x-python",
   "name": "python",
   "nbconvert_exporter": "python",
   "pygments_lexer": "ipython3",
   "version": "3.8.5"
  }
 },
 "nbformat": 4,
 "nbformat_minor": 5
}
