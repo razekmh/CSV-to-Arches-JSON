{
 "cells": [
  {
   "cell_type": "code",
   "execution_count": 35,
   "id": "c176cc49-1609-4ef2-b57e-df13cbd79333",
   "metadata": {},
   "outputs": [],
   "source": [
    "import json\n",
    "import yaml\n",
    "import uuid"
   ]
  },
  {
   "cell_type": "code",
   "execution_count": 36,
   "id": "42af88af-35f7-4e72-aafd-1434d1696711",
   "metadata": {},
   "outputs": [],
   "source": [
    "with open(\"local_settings.yml\", \"r\") as yamlfile:\n",
    "    config = yaml.load(yamlfile, Loader=yaml.FullLoader)"
   ]
  },
  {
   "cell_type": "code",
   "execution_count": 71,
   "id": "36178aab-abdd-40e7-b5d3-795a31a5b65b",
   "metadata": {},
   "outputs": [
    {
     "data": {
      "text/plain": [
       "dict_keys(['UUID', 'Date', 'Start Dating method', 'Start Archeological Period'])"
      ]
     },
     "execution_count": 71,
     "metadata": {},
     "output_type": "execute_result"
    }
   ],
   "source": [
    "list(config['Basic']['GRAPH']['cards'].items())[1][1].keys()"
   ]
  },
  {
   "cell_type": "code",
   "execution_count": 43,
   "id": "36e38709-397a-4397-92a2-ffdda9fde673",
   "metadata": {},
   "outputs": [
    {
     "data": {
      "text/plain": [
       "dict_keys(['Recorder', 'Start Date'])"
      ]
     },
     "execution_count": 43,
     "metadata": {},
     "output_type": "execute_result"
    }
   ],
   "source": [
    "config['Basic']['GRAPH']['cards'].keys()"
   ]
  },
  {
   "cell_type": "code",
   "execution_count": 48,
   "id": "7891faa6-5736-4242-a5b8-ee4bf1170860",
   "metadata": {},
   "outputs": [],
   "source": [
    "csv_row = {\n",
    "    \"Recorder\"   : \"person\",\n",
    "    \"Start Date\" : \"10/10/10\",\n",
    "    \"Date\"       : \"Date_data\",\n",
    "    \"Start Dating method\" : \"Data Start Dating method\",\n",
    "    \"Start Archeological Period\" : \"DATA Start Archeological Period\"\n",
    "}"
   ]
  },
  {
   "cell_type": "code",
   "execution_count": 87,
   "id": "4dd9adab-b41a-4efc-b9d0-1776d8accb3f",
   "metadata": {},
   "outputs": [],
   "source": [
    "def parse_config(config):\n",
    "    \n",
    "    graphid = config['Basic']['GRAPH']['UUID']\n",
    "    cards = list(config['Basic']['GRAPH']['cards'].items())\n",
    "    return graphid, cards"
   ]
  },
  {
   "cell_type": "code",
   "execution_count": 5,
   "id": "d16dbbea-bb8b-4fd5-9743-261e3468f390",
   "metadata": {},
   "outputs": [],
   "source": [
    "def create_json(resources):\n",
    "    \n",
    "    json_data = {}\n",
    "    resources_list = {'resources' : resources}\n",
    "    json_data['business_data'] = resources_list\n",
    "    return json_data"
   ]
  },
  {
   "cell_type": "code",
   "execution_count": 80,
   "id": "d066da2f-180e-463d-a3e8-71855a9f57b5",
   "metadata": {},
   "outputs": [],
   "source": [
    "def create_res(graphid, cards, legacy_id=''):\n",
    "    # create resource instance\n",
    "    id = legacy_id\n",
    "    if id == '':\n",
    "        id = str(uuid.uuid4())\n",
    "    res = {}\n",
    "    res['resourceinstance'] = {\n",
    "        \"resourceinstanceid\" : id, \"graph_id\" : str(graphid), \"legacyid\" : id}\n",
    "    tiles =[]\n",
    "    for card in cards:\n",
    "        tiles.append(create_tile(card, id, card[1]['UUID']))\n",
    "    res['tiles'] = tiles\n",
    "    return res"
   ]
  },
  {
   "cell_type": "code",
   "execution_count": 81,
   "id": "9d851675-42ef-4c73-a0fc-adffad706774",
   "metadata": {},
   "outputs": [],
   "source": [
    "def create_tile(card, resid, nodegroup_id, parent=None):\n",
    "    # create tile\n",
    "    tile = {}\n",
    "    tile['tileid'] = str(uuid.uuid4())\n",
    "    tile['resourceinstance_id'] = resid\n",
    "    tile['nodegroup_id'] = nodegroup_id\n",
    "    tile['sortorder'] = 0\n",
    "    tile['parenttile_id'] = None\n",
    "    tile['data'] = Build_data(card)\n",
    "    return tile"
   ]
  },
  {
   "cell_type": "code",
   "execution_count": 82,
   "id": "8fa82860-9217-4cf2-8f2e-d53dfcd0a986",
   "metadata": {},
   "outputs": [],
   "source": [
    "def Build_data(card):\n",
    "    data = {}\n",
    "    for key in [key for key in card[1].keys() if key != 'UUID']:\n",
    "        data[card[1][key]] = csv_row[key]\n",
    "    return data"
   ]
  },
  {
   "cell_type": "code",
   "execution_count": 93,
   "id": "d56224c3-30a2-4e8e-88cb-557593188edf",
   "metadata": {},
   "outputs": [],
   "source": [
    "def build_json():\n",
    "    graphid, cards = parse_config(config)\n",
    "    resources = create_res(graphid, cards)\n",
    "    \n",
    "    built = resources\n",
    "    return built"
   ]
  },
  {
   "cell_type": "code",
   "execution_count": 94,
   "id": "0acb3d8a-9386-4c0d-952f-ca2cf17cc438",
   "metadata": {},
   "outputs": [
    {
     "data": {
      "text/plain": [
       "{'resourceinstance': {'resourceinstanceid': 'a7f15c51-b275-42b0-8fbd-9630dbe6f6a9',\n",
       "  'graph_id': 'b702e11e-ea41-11eb-86da-fa163ee7ffac',\n",
       "  'legacyid': 'a7f15c51-b275-42b0-8fbd-9630dbe6f6a9'},\n",
       " 'tiles': [{'tileid': 'd1947c0e-d45c-46e6-a984-59f14aebe343',\n",
       "   'resourceinstance_id': 'a7f15c51-b275-42b0-8fbd-9630dbe6f6a9',\n",
       "   'nodegroup_id': 'b702e13d-ea41-11eb-86da-fa163ee7ffac',\n",
       "   'sortorder': 0,\n",
       "   'parenttile_id': None,\n",
       "   'data': {'b702e13d-ea41-11eb-86da-fa163ee7ffac': 'person'}},\n",
       "  {'tileid': 'dc7a8388-6a54-47b7-b44a-8b0114cf65f4',\n",
       "   'resourceinstance_id': 'a7f15c51-b275-42b0-8fbd-9630dbe6f6a9',\n",
       "   'nodegroup_id': 'b702e11f-ea41-11eb-86da-fa163ee7ffac',\n",
       "   'sortorder': 0,\n",
       "   'parenttile_id': None,\n",
       "   'data': {'b702e147-ea41-11eb-86da-fa163ee7ffac': 'Date_data',\n",
       "    'b702e148-ea41-11eb-86da-fa163ee7ffac': 'Data Start Dating method',\n",
       "    'b702e14d-ea41-11eb-86da-fa163ee7ffac': 'DATA Start Archeological Period'}}]}"
      ]
     },
     "execution_count": 94,
     "metadata": {},
     "output_type": "execute_result"
    }
   ],
   "source": [
    "build_json()"
   ]
  },
  {
   "cell_type": "code",
   "execution_count": 8,
   "id": "e6ebd0ab-7bf5-4d67-a8b8-f8cc87e6cc45",
   "metadata": {},
   "outputs": [
    {
     "data": {
      "text/plain": [
       "{'tileid': '9ce055d8-d01e-4e1c-ba84-73863099d4b9',\n",
       " 'resourceinstance_id': 10,\n",
       " 'nodegroup_id': 20,\n",
       " 'sortorder': 0,\n",
       " 'parenttile_id': None,\n",
       " 'data': {}}"
      ]
     },
     "execution_count": 8,
     "metadata": {},
     "output_type": "execute_result"
    }
   ],
   "source": [
    "create_tile(10,20)"
   ]
  },
  {
   "cell_type": "code",
   "execution_count": 6,
   "id": "52d458bc-dcc2-4875-b598-94901337c104",
   "metadata": {},
   "outputs": [
    {
     "data": {
      "text/plain": [
       "{'business_data': {'resources': [{'resourceinstance': {'resourceinstanceid': '6e74c004-0700-4225-88cc-6849f6f9545b',\n",
       "     'graph_id': '8b2424cb-d34b-11eb-86da-fa163ee7ffac',\n",
       "     'legacyid': '6e74c004-0700-4225-88cc-6849f6f9545b'},\n",
       "    'tiles': []},\n",
       "   {'resourceinstance': {'resourceinstanceid': '98889f3f-5d76-409b-b016-17a1ea4a0fad',\n",
       "     'graph_id': '8b2424cb-d34b-11eb-86da-fa163ee7ffac',\n",
       "     'legacyid': '98889f3f-5d76-409b-b016-17a1ea4a0fad'},\n",
       "    'tiles': []},\n",
       "   {'resourceinstance': {'resourceinstanceid': '5696b279-be4d-4734-9404-bc3f0eb48d32',\n",
       "     'graph_id': '8b2424cb-d34b-11eb-86da-fa163ee7ffac',\n",
       "     'legacyid': '5696b279-be4d-4734-9404-bc3f0eb48d32'},\n",
       "    'tiles': []},\n",
       "   {'resourceinstance': {'resourceinstanceid': 'fda316e8-d9b6-40f4-90b8-6caba04c70bb',\n",
       "     'graph_id': '8b2424cb-d34b-11eb-86da-fa163ee7ffac',\n",
       "     'legacyid': 'fda316e8-d9b6-40f4-90b8-6caba04c70bb'},\n",
       "    'tiles': []},\n",
       "   {'resourceinstance': {'resourceinstanceid': '561b7c8a-d423-4233-a266-2a708b81cbf9',\n",
       "     'graph_id': '8b2424cb-d34b-11eb-86da-fa163ee7ffac',\n",
       "     'legacyid': '561b7c8a-d423-4233-a266-2a708b81cbf9'},\n",
       "    'tiles': []},\n",
       "   {'resourceinstance': {'resourceinstanceid': '9fddb4e9-d206-428c-b460-b7210b42238c',\n",
       "     'graph_id': '8b2424cb-d34b-11eb-86da-fa163ee7ffac',\n",
       "     'legacyid': '9fddb4e9-d206-428c-b460-b7210b42238c'},\n",
       "    'tiles': []},\n",
       "   {'resourceinstance': {'resourceinstanceid': 'b9d744a9-a792-47a4-8725-fb3a20221f96',\n",
       "     'graph_id': '8b2424cb-d34b-11eb-86da-fa163ee7ffac',\n",
       "     'legacyid': 'b9d744a9-a792-47a4-8725-fb3a20221f96'},\n",
       "    'tiles': []},\n",
       "   {'resourceinstance': {'resourceinstanceid': '78f07be2-ccf2-4b27-89af-7019d3803554',\n",
       "     'graph_id': '8b2424cb-d34b-11eb-86da-fa163ee7ffac',\n",
       "     'legacyid': '78f07be2-ccf2-4b27-89af-7019d3803554'},\n",
       "    'tiles': []},\n",
       "   {'resourceinstance': {'resourceinstanceid': '072f30b5-7db5-45f2-842a-80f154310ee0',\n",
       "     'graph_id': '8b2424cb-d34b-11eb-86da-fa163ee7ffac',\n",
       "     'legacyid': '072f30b5-7db5-45f2-842a-80f154310ee0'},\n",
       "    'tiles': []},\n",
       "   {'resourceinstance': {'resourceinstanceid': '3456f939-60aa-49b2-ae0e-d0eb4e93e4ee',\n",
       "     'graph_id': '8b2424cb-d34b-11eb-86da-fa163ee7ffac',\n",
       "     'legacyid': '3456f939-60aa-49b2-ae0e-d0eb4e93e4ee'},\n",
       "    'tiles': []}]}}"
      ]
     },
     "execution_count": 6,
     "metadata": {},
     "output_type": "execute_result"
    }
   ],
   "source": [
    "items = []\n",
    "for i in range(10):\n",
    "    items.append(create_res(config['Basic']['GRAPH_ID']))\n",
    "create_json(items)"
   ]
  },
  {
   "cell_type": "code",
   "execution_count": 29,
   "id": "5d0b0d2c-0554-4fff-84e2-1fdc151c243e",
   "metadata": {},
   "outputs": [],
   "source": [
    "json_data = json.loads(json.dumps(create_json(items),indent = 4))"
   ]
  },
  {
   "cell_type": "code",
   "execution_count": 30,
   "id": "fd2cd96c-51f5-4706-b817-e5ada7cd9850",
   "metadata": {},
   "outputs": [
    {
     "data": {
      "text/plain": [
       "{'business_data': {'resources': [{'resourceinstance': {'resourceinstanceid': '6e74c004-0700-4225-88cc-6849f6f9545b',\n",
       "     'graph_id': '8b2424cb-d34b-11eb-86da-fa163ee7ffac',\n",
       "     'legacyid': '6e74c004-0700-4225-88cc-6849f6f9545b'},\n",
       "    'tiles': []},\n",
       "   {'resourceinstance': {'resourceinstanceid': '98889f3f-5d76-409b-b016-17a1ea4a0fad',\n",
       "     'graph_id': '8b2424cb-d34b-11eb-86da-fa163ee7ffac',\n",
       "     'legacyid': '98889f3f-5d76-409b-b016-17a1ea4a0fad'},\n",
       "    'tiles': []},\n",
       "   {'resourceinstance': {'resourceinstanceid': '5696b279-be4d-4734-9404-bc3f0eb48d32',\n",
       "     'graph_id': '8b2424cb-d34b-11eb-86da-fa163ee7ffac',\n",
       "     'legacyid': '5696b279-be4d-4734-9404-bc3f0eb48d32'},\n",
       "    'tiles': []},\n",
       "   {'resourceinstance': {'resourceinstanceid': 'fda316e8-d9b6-40f4-90b8-6caba04c70bb',\n",
       "     'graph_id': '8b2424cb-d34b-11eb-86da-fa163ee7ffac',\n",
       "     'legacyid': 'fda316e8-d9b6-40f4-90b8-6caba04c70bb'},\n",
       "    'tiles': []},\n",
       "   {'resourceinstance': {'resourceinstanceid': '561b7c8a-d423-4233-a266-2a708b81cbf9',\n",
       "     'graph_id': '8b2424cb-d34b-11eb-86da-fa163ee7ffac',\n",
       "     'legacyid': '561b7c8a-d423-4233-a266-2a708b81cbf9'},\n",
       "    'tiles': []},\n",
       "   {'resourceinstance': {'resourceinstanceid': '9fddb4e9-d206-428c-b460-b7210b42238c',\n",
       "     'graph_id': '8b2424cb-d34b-11eb-86da-fa163ee7ffac',\n",
       "     'legacyid': '9fddb4e9-d206-428c-b460-b7210b42238c'},\n",
       "    'tiles': []},\n",
       "   {'resourceinstance': {'resourceinstanceid': 'b9d744a9-a792-47a4-8725-fb3a20221f96',\n",
       "     'graph_id': '8b2424cb-d34b-11eb-86da-fa163ee7ffac',\n",
       "     'legacyid': 'b9d744a9-a792-47a4-8725-fb3a20221f96'},\n",
       "    'tiles': []},\n",
       "   {'resourceinstance': {'resourceinstanceid': '78f07be2-ccf2-4b27-89af-7019d3803554',\n",
       "     'graph_id': '8b2424cb-d34b-11eb-86da-fa163ee7ffac',\n",
       "     'legacyid': '78f07be2-ccf2-4b27-89af-7019d3803554'},\n",
       "    'tiles': []},\n",
       "   {'resourceinstance': {'resourceinstanceid': '072f30b5-7db5-45f2-842a-80f154310ee0',\n",
       "     'graph_id': '8b2424cb-d34b-11eb-86da-fa163ee7ffac',\n",
       "     'legacyid': '072f30b5-7db5-45f2-842a-80f154310ee0'},\n",
       "    'tiles': []},\n",
       "   {'resourceinstance': {'resourceinstanceid': '3456f939-60aa-49b2-ae0e-d0eb4e93e4ee',\n",
       "     'graph_id': '8b2424cb-d34b-11eb-86da-fa163ee7ffac',\n",
       "     'legacyid': '3456f939-60aa-49b2-ae0e-d0eb4e93e4ee'},\n",
       "    'tiles': []}]}}"
      ]
     },
     "execution_count": 30,
     "metadata": {},
     "output_type": "execute_result"
    }
   ],
   "source": [
    "json_data"
   ]
  },
  {
   "cell_type": "code",
   "execution_count": null,
   "id": "6368142b-0196-4769-ba81-40e670706cff",
   "metadata": {},
   "outputs": [],
   "source": [
    "with open('data.txt', 'w') as outfile:\n",
    "    json.dump(data, outfile)"
   ]
  }
 ],
 "metadata": {
  "kernelspec": {
   "display_name": "Python 3",
   "language": "python",
   "name": "python3"
  },
  "language_info": {
   "codemirror_mode": {
    "name": "ipython",
    "version": 3
   },
   "file_extension": ".py",
   "mimetype": "text/x-python",
   "name": "python",
   "nbconvert_exporter": "python",
   "pygments_lexer": "ipython3",
   "version": "3.8.5"
  }
 },
 "nbformat": 4,
 "nbformat_minor": 5
}
