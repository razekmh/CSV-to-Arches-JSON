{
 "cells": [
  {
   "cell_type": "code",
   "execution_count": 1,
   "id": "d9301ff0-0db5-4de1-b343-93b1b625bc8d",
   "metadata": {},
   "outputs": [],
   "source": [
    "import json"
   ]
  },
  {
   "cell_type": "code",
   "execution_count": 2,
   "id": "76f5eac5-4af0-4dbf-b952-21de8c5af72f",
   "metadata": {},
   "outputs": [],
   "source": [
    "with open(\"Activity Resource Model.json\") as file_activity_rm:\n",
    "     activity_rm = json.load(file_activity_rm)"
   ]
  },
  {
   "cell_type": "code",
   "execution_count": 4,
   "id": "fa3e63ae-9ed7-46f3-a1a7-3942edda9c1b",
   "metadata": {},
   "outputs": [
    {
     "data": {
      "text/plain": [
       "dict_keys(['graph', 'metadata'])"
      ]
     },
     "execution_count": 4,
     "metadata": {},
     "output_type": "execute_result"
    }
   ],
   "source": [
    "activity_rm.keys()"
   ]
  },
  {
   "cell_type": "code",
   "execution_count": 9,
   "id": "5c023ba5-f26d-4917-9a49-e121af138c8a",
   "metadata": {},
   "outputs": [
    {
     "data": {
      "text/plain": [
       "dict_keys(['author', 'cards', 'cards_x_nodes_x_widgets', 'color', 'config', 'deploymentdate', 'deploymentfile', 'description', 'edges', 'functions_x_graphs', 'graphid', 'iconclass', 'is_editable', 'isactive', 'isresource', 'jsonldcontext', 'name', 'nodegroups', 'nodes', 'ontology_id', 'relatable_resource_model_ids', 'resource_2_resource_constraints', 'root', 'slug', 'subtitle', 'template_id', 'version'])"
      ]
     },
     "execution_count": 9,
     "metadata": {},
     "output_type": "execute_result"
    }
   ],
   "source": [
    "activity_rm['graph'][0].keys()"
   ]
  },
  {
   "cell_type": "code",
   "execution_count": 10,
   "id": "1e974160-05ad-4ceb-83f1-a54ac3228dfd",
   "metadata": {},
   "outputs": [
    {
     "data": {
      "text/plain": [
       "{'db': 'PostgreSQL 12.7 (Ubuntu 12.7-1.pgdg18.04+1) on x86_64-pc-linux-gnu, compiled by gcc (Ubuntu 7.5.0-3ubuntu1~18.04) 7.5.0, 64-bit',\n",
       " 'git hash': 'fatal: not a git repository (or any of the parent directories): .git',\n",
       " 'os': 'Linux',\n",
       " 'os version': '4.15.0-142-generic'}"
      ]
     },
     "execution_count": 10,
     "metadata": {},
     "output_type": "execute_result"
    }
   ],
   "source": [
    "activity_rm['metadata']"
   ]
  },
  {
   "cell_type": "code",
   "execution_count": 20,
   "id": "429d5dbd-c385-4b9c-ab59-12070b707871",
   "metadata": {},
   "outputs": [
    {
     "data": {
      "text/plain": [
       "{'config': None,\n",
       " 'datatype': 'semantic',\n",
       " 'description': 'Represents a single node in a graph',\n",
       " 'exportable': False,\n",
       " 'fieldname': '',\n",
       " 'graph_id': '243f8689-b8f6-11e6-84a5-026d961c88e6',\n",
       " 'is_collector': False,\n",
       " 'isrequired': False,\n",
       " 'issearchable': True,\n",
       " 'istopnode': False,\n",
       " 'name': 'Beginning of Existence Time Span',\n",
       " 'nodegroup_id': '0cbaba63-e742-11e6-84a6-026d961c88e6',\n",
       " 'nodeid': '0cbaba67-e742-11e6-84a6-026d961c88e6',\n",
       " 'ontologyclass': 'http://www.cidoc-crm.org/cidoc-crm/E52_Time-Span',\n",
       " 'parentproperty': 'http://www.cidoc-crm.org/cidoc-crm/P4_has_time-span',\n",
       " 'sortorder': 0}"
      ]
     },
     "execution_count": 20,
     "metadata": {},
     "output_type": "execute_result"
    }
   ],
   "source": [
    "activity_rm['graph'][0]['nodes'][0]"
   ]
  },
  {
   "cell_type": "code",
   "execution_count": null,
   "id": "187f7072-86f4-4a28-8ac5-fe896e38a072",
   "metadata": {},
   "outputs": [],
   "source": []
  }
 ],
 "metadata": {
  "kernelspec": {
   "display_name": "Python 3",
   "language": "python",
   "name": "python3"
  },
  "language_info": {
   "codemirror_mode": {
    "name": "ipython",
    "version": 3
   },
   "file_extension": ".py",
   "mimetype": "text/x-python",
   "name": "python",
   "nbconvert_exporter": "python",
   "pygments_lexer": "ipython3",
   "version": "3.8.5"
  }
 },
 "nbformat": 4,
 "nbformat_minor": 5
}
